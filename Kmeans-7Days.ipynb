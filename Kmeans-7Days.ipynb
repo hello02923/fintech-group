{
 "cells": [
  {
   "cell_type": "code",
   "execution_count": 8,
   "metadata": {
    "ExecuteTime": {
     "end_time": "2020-05-06T08:34:26.145616Z",
     "start_time": "2020-05-06T08:34:26.142891Z"
    }
   },
   "outputs": [],
   "source": [
    "import numpy as np\n",
    "import pandas as pd\n",
    "import matplotlib.pyplot as plt"
   ]
  },
  {
   "cell_type": "code",
   "execution_count": 9,
   "metadata": {
    "ExecuteTime": {
     "end_time": "2020-05-06T08:34:26.586903Z",
     "start_time": "2020-05-06T08:34:26.567828Z"
    }
   },
   "outputs": [],
   "source": [
    "dataset = pd.read_csv('7days.csv')"
   ]
  },
  {
   "cell_type": "code",
   "execution_count": 10,
   "metadata": {
    "ExecuteTime": {
     "end_time": "2020-05-06T08:34:26.999285Z",
     "start_time": "2020-05-06T08:34:26.983796Z"
    }
   },
   "outputs": [
    {
     "data": {
      "text/html": [
       "<div>\n",
       "<style scoped>\n",
       "    .dataframe tbody tr th:only-of-type {\n",
       "        vertical-align: middle;\n",
       "    }\n",
       "\n",
       "    .dataframe tbody tr th {\n",
       "        vertical-align: top;\n",
       "    }\n",
       "\n",
       "    .dataframe thead th {\n",
       "        text-align: right;\n",
       "    }\n",
       "</style>\n",
       "<table border=\"1\" class=\"dataframe\">\n",
       "  <thead>\n",
       "    <tr style=\"text-align: right;\">\n",
       "      <th></th>\n",
       "      <th>Unnamed: 0</th>\n",
       "      <th>timestamp</th>\n",
       "      <th>category</th>\n",
       "      <th>action</th>\n",
       "      <th>symbolId</th>\n",
       "      <th>cardName</th>\n",
       "      <th>user_id</th>\n",
       "    </tr>\n",
       "  </thead>\n",
       "  <tbody>\n",
       "    <tr>\n",
       "      <td>0</td>\n",
       "      <td>4784</td>\n",
       "      <td>2020-04-09 17:09:42.777</td>\n",
       "      <td>card</td>\n",
       "      <td>open</td>\n",
       "      <td>2603</td>\n",
       "      <td>基本資料</td>\n",
       "      <td>9</td>\n",
       "    </tr>\n",
       "    <tr>\n",
       "      <td>1</td>\n",
       "      <td>6285</td>\n",
       "      <td>2020-04-09 17:30:58.354</td>\n",
       "      <td>card</td>\n",
       "      <td>open</td>\n",
       "      <td>2409</td>\n",
       "      <td>法人買賣超</td>\n",
       "      <td>9</td>\n",
       "    </tr>\n",
       "    <tr>\n",
       "      <td>2</td>\n",
       "      <td>6286</td>\n",
       "      <td>2020-04-09 17:30:58.360</td>\n",
       "      <td>card</td>\n",
       "      <td>open</td>\n",
       "      <td>2409</td>\n",
       "      <td>現金流量表</td>\n",
       "      <td>9</td>\n",
       "    </tr>\n",
       "    <tr>\n",
       "      <td>3</td>\n",
       "      <td>6287</td>\n",
       "      <td>2020-04-09 17:30:58.367</td>\n",
       "      <td>card</td>\n",
       "      <td>open</td>\n",
       "      <td>2409</td>\n",
       "      <td>本淨比河流圖</td>\n",
       "      <td>9</td>\n",
       "    </tr>\n",
       "    <tr>\n",
       "      <td>4</td>\n",
       "      <td>6288</td>\n",
       "      <td>2020-04-09 17:30:58.373</td>\n",
       "      <td>card</td>\n",
       "      <td>open</td>\n",
       "      <td>2409</td>\n",
       "      <td>資產負債表</td>\n",
       "      <td>9</td>\n",
       "    </tr>\n",
       "    <tr>\n",
       "      <td>...</td>\n",
       "      <td>...</td>\n",
       "      <td>...</td>\n",
       "      <td>...</td>\n",
       "      <td>...</td>\n",
       "      <td>...</td>\n",
       "      <td>...</td>\n",
       "      <td>...</td>\n",
       "    </tr>\n",
       "    <tr>\n",
       "      <td>14630</td>\n",
       "      <td>8</td>\n",
       "      <td>2020-04-09 16:00:09.497</td>\n",
       "      <td>card</td>\n",
       "      <td>open</td>\n",
       "      <td>1707</td>\n",
       "      <td>即時走勢</td>\n",
       "      <td>4539</td>\n",
       "    </tr>\n",
       "    <tr>\n",
       "      <td>14631</td>\n",
       "      <td>7</td>\n",
       "      <td>2020-04-09 16:00:09.490</td>\n",
       "      <td>card</td>\n",
       "      <td>open</td>\n",
       "      <td>1707</td>\n",
       "      <td>新聞</td>\n",
       "      <td>4539</td>\n",
       "    </tr>\n",
       "    <tr>\n",
       "      <td>14632</td>\n",
       "      <td>6</td>\n",
       "      <td>2020-04-09 16:00:09.479</td>\n",
       "      <td>card</td>\n",
       "      <td>open</td>\n",
       "      <td>1707</td>\n",
       "      <td>股價K線</td>\n",
       "      <td>4539</td>\n",
       "    </tr>\n",
       "    <tr>\n",
       "      <td>14633</td>\n",
       "      <td>10</td>\n",
       "      <td>2020-04-09 16:00:09.506</td>\n",
       "      <td>card</td>\n",
       "      <td>open</td>\n",
       "      <td>1707</td>\n",
       "      <td>PTT批踢踢</td>\n",
       "      <td>4539</td>\n",
       "    </tr>\n",
       "    <tr>\n",
       "      <td>14634</td>\n",
       "      <td>11</td>\n",
       "      <td>2020-04-09 16:00:09.511</td>\n",
       "      <td>card</td>\n",
       "      <td>open</td>\n",
       "      <td>1707</td>\n",
       "      <td>基本概況</td>\n",
       "      <td>4539</td>\n",
       "    </tr>\n",
       "  </tbody>\n",
       "</table>\n",
       "<p>14635 rows × 7 columns</p>\n",
       "</div>"
      ],
      "text/plain": [
       "       Unnamed: 0                timestamp category action symbolId cardName  \\\n",
       "0            4784  2020-04-09 17:09:42.777     card   open     2603     基本資料   \n",
       "1            6285  2020-04-09 17:30:58.354     card   open     2409    法人買賣超   \n",
       "2            6286  2020-04-09 17:30:58.360     card   open     2409    現金流量表   \n",
       "3            6287  2020-04-09 17:30:58.367     card   open     2409   本淨比河流圖   \n",
       "4            6288  2020-04-09 17:30:58.373     card   open     2409    資產負債表   \n",
       "...           ...                      ...      ...    ...      ...      ...   \n",
       "14630           8  2020-04-09 16:00:09.497     card   open     1707     即時走勢   \n",
       "14631           7  2020-04-09 16:00:09.490     card   open     1707       新聞   \n",
       "14632           6  2020-04-09 16:00:09.479     card   open     1707     股價K線   \n",
       "14633          10  2020-04-09 16:00:09.506     card   open     1707   PTT批踢踢   \n",
       "14634          11  2020-04-09 16:00:09.511     card   open     1707     基本概況   \n",
       "\n",
       "       user_id  \n",
       "0            9  \n",
       "1            9  \n",
       "2            9  \n",
       "3            9  \n",
       "4            9  \n",
       "...        ...  \n",
       "14630     4539  \n",
       "14631     4539  \n",
       "14632     4539  \n",
       "14633     4539  \n",
       "14634     4539  \n",
       "\n",
       "[14635 rows x 7 columns]"
      ]
     },
     "execution_count": 10,
     "metadata": {},
     "output_type": "execute_result"
    }
   ],
   "source": [
    "dataset"
   ]
  },
  {
   "cell_type": "code",
   "execution_count": 11,
   "metadata": {
    "ExecuteTime": {
     "end_time": "2020-05-06T08:34:28.564125Z",
     "start_time": "2020-05-06T08:34:28.559502Z"
    }
   },
   "outputs": [],
   "source": [
    "dataset = dataset.drop(['Unnamed: 0','timestamp','category','action','symbolId'],axis = 1)"
   ]
  },
  {
   "cell_type": "code",
   "execution_count": 12,
   "metadata": {
    "ExecuteTime": {
     "end_time": "2020-05-06T08:34:28.869214Z",
     "start_time": "2020-05-06T08:34:28.863082Z"
    }
   },
   "outputs": [
    {
     "data": {
      "text/html": [
       "<div>\n",
       "<style scoped>\n",
       "    .dataframe tbody tr th:only-of-type {\n",
       "        vertical-align: middle;\n",
       "    }\n",
       "\n",
       "    .dataframe tbody tr th {\n",
       "        vertical-align: top;\n",
       "    }\n",
       "\n",
       "    .dataframe thead th {\n",
       "        text-align: right;\n",
       "    }\n",
       "</style>\n",
       "<table border=\"1\" class=\"dataframe\">\n",
       "  <thead>\n",
       "    <tr style=\"text-align: right;\">\n",
       "      <th></th>\n",
       "      <th>cardName</th>\n",
       "      <th>user_id</th>\n",
       "    </tr>\n",
       "  </thead>\n",
       "  <tbody>\n",
       "    <tr>\n",
       "      <td>0</td>\n",
       "      <td>基本資料</td>\n",
       "      <td>9</td>\n",
       "    </tr>\n",
       "    <tr>\n",
       "      <td>1</td>\n",
       "      <td>法人買賣超</td>\n",
       "      <td>9</td>\n",
       "    </tr>\n",
       "    <tr>\n",
       "      <td>2</td>\n",
       "      <td>現金流量表</td>\n",
       "      <td>9</td>\n",
       "    </tr>\n",
       "    <tr>\n",
       "      <td>3</td>\n",
       "      <td>本淨比河流圖</td>\n",
       "      <td>9</td>\n",
       "    </tr>\n",
       "    <tr>\n",
       "      <td>4</td>\n",
       "      <td>資產負債表</td>\n",
       "      <td>9</td>\n",
       "    </tr>\n",
       "    <tr>\n",
       "      <td>5</td>\n",
       "      <td>本益比河流圖</td>\n",
       "      <td>9</td>\n",
       "    </tr>\n",
       "    <tr>\n",
       "      <td>6</td>\n",
       "      <td>現金流量表</td>\n",
       "      <td>9</td>\n",
       "    </tr>\n",
       "    <tr>\n",
       "      <td>7</td>\n",
       "      <td>資產負債表</td>\n",
       "      <td>9</td>\n",
       "    </tr>\n",
       "    <tr>\n",
       "      <td>8</td>\n",
       "      <td>損益表</td>\n",
       "      <td>9</td>\n",
       "    </tr>\n",
       "    <tr>\n",
       "      <td>9</td>\n",
       "      <td>法人買賣超</td>\n",
       "      <td>9</td>\n",
       "    </tr>\n",
       "  </tbody>\n",
       "</table>\n",
       "</div>"
      ],
      "text/plain": [
       "  cardName  user_id\n",
       "0     基本資料        9\n",
       "1    法人買賣超        9\n",
       "2    現金流量表        9\n",
       "3   本淨比河流圖        9\n",
       "4    資產負債表        9\n",
       "5   本益比河流圖        9\n",
       "6    現金流量表        9\n",
       "7    資產負債表        9\n",
       "8      損益表        9\n",
       "9    法人買賣超        9"
      ]
     },
     "execution_count": 12,
     "metadata": {},
     "output_type": "execute_result"
    }
   ],
   "source": [
    "dataset.head(10)"
   ]
  },
  {
   "cell_type": "code",
   "execution_count": 16,
   "metadata": {
    "ExecuteTime": {
     "end_time": "2020-05-06T08:36:00.743140Z",
     "start_time": "2020-05-06T08:36:00.735755Z"
    }
   },
   "outputs": [],
   "source": [
    "dataset = dataset.groupby(['user_id','cardName']).size().unstack(fill_value = 0).reset_index(drop = True)"
   ]
  },
  {
   "cell_type": "code",
   "execution_count": 18,
   "metadata": {
    "ExecuteTime": {
     "end_time": "2020-05-06T08:36:30.289502Z",
     "start_time": "2020-05-06T08:36:29.917633Z"
    }
   },
   "outputs": [],
   "source": [
    "from sklearn.cluster import KMeans"
   ]
  },
  {
   "cell_type": "code",
   "execution_count": 46,
   "metadata": {
    "ExecuteTime": {
     "end_time": "2020-05-06T08:49:39.439190Z",
     "start_time": "2020-05-06T08:49:37.452892Z"
    }
   },
   "outputs": [],
   "source": [
    "wcss = []\n",
    "for i in range(1,30):\n",
    "    kmeans = KMeans(n_clusters = i , max_iter = 300 , n_init = 10 , init = 'k-means++',random_state = 0)\n",
    "    kmeans.fit(dataset)\n",
    "    wcss.append(kmeans.inertia_)"
   ]
  },
  {
   "cell_type": "code",
   "execution_count": 47,
   "metadata": {
    "ExecuteTime": {
     "end_time": "2020-05-06T08:49:40.629488Z",
     "start_time": "2020-05-06T08:49:40.548267Z"
    }
   },
   "outputs": [
    {
     "data": {
      "image/png": "[encoded data removed]",
      "text/plain": [
       "<Figure size 432x288 with 1 Axes>"
      ]
     },
     "metadata": {
      "needs_background": "light"
     },
     "output_type": "display_data"
    }
   ],
   "source": [
    "plt.plot(range(1,30),wcss)\n",
    "plt.xlabel('Number of Clusters')\n",
    "plt.ylabel('Wcss')\n",
    "plt.show()"
   ]
  },
  {
   "cell_type": "code",
   "execution_count": 48,
   "metadata": {
    "ExecuteTime": {
     "end_time": "2020-05-06T08:49:56.194712Z",
     "start_time": "2020-05-06T08:49:56.108112Z"
    }
   },
   "outputs": [],
   "source": [
    "kmeans = KMeans(n_clusters = 25 , max_iter = 300 , n_init = 10 , init = 'k-means++',random_state = 0)\n",
    "y_kmeans = kmeans.fit_predict(dataset)"
   ]
  },
  {
   "cell_type": "code",
   "execution_count": 49,
   "metadata": {
    "ExecuteTime": {
     "end_time": "2020-05-06T08:49:56.622187Z",
     "start_time": "2020-05-06T08:49:56.619692Z"
    }
   },
   "outputs": [
    {
     "name": "stdout",
     "output_type": "stream",
     "text": [
      "[17 17 18  0 12  0  0  0  0 24 18  9 18  0 24  2  0 21  0  0 18  6  2  9\n",
      " 12  5  0  9 18  0  0  0  6 18  0 10  0 15  0 18  6 15  0  9  6 11  0 18\n",
      "  0 18 18 10 11  2  0  0  0  9  6  0  9  2  0  2 18  9  6  4  0 18  0  6\n",
      "  9  0  9  0  0  0  9 18 18  8  6  9  6  0 17  9  0  9  0  9  0  9 18  0\n",
      " 10 23  6 18  0 24  0 18  0  0 18 18  0  0  0  0 12  0  0 24 17  0  9 18\n",
      "  3 15 18 18 18  0  0  9  9  0 17  9  0  9  2  9 18  0  0  9  9 18 18  9\n",
      " 18  6  2 20  9  2  9 13  0  9  0 18  9  0  6  2  0  0  0 18  0  9 18 18\n",
      " 18  0 12  9  1  9 19  0 18  9  6  0  0  6  0  0  0  0  0  0 17  0  9 16\n",
      "  0 18 18 18  2  0  0  9  0 15  0  0  0  0  7  9  9  9 18  0  0 18 18  0\n",
      "  0  2  0  0  0  9  9 18 18  3  0  6  0  9  0 14  0  0  6  6  0  0  9 22\n",
      "  0  0  0  0  9 18 18  0 18  7  9  0  9  0  0  0  9  0  0  0  0  0  0  2\n",
      "  3  9  9  0 24  0  0 18  9  0 18  0  0  0 18 18  9  0  0  0 24  0  9  0\n",
      " 18 18 18 18 18  9  9 18  0  0  0  6  0  0  9  0  0  0 18  0  0  0 12  0\n",
      " 12 18  0  0  0  0  0 18  9  0  9 24  6  0  6  9  9  0 18  9  2  0  9  0\n",
      "  0  9  9  9 18 18  0 12  0 18  0  9 18 18 18  0 18  0  9  9  9  0  0 18\n",
      "  2 18  0  0  0  0  0  0  9  0]\n"
     ]
    }
   ],
   "source": [
    "print(y_kmeans)"
   ]
  },
  {
   "cell_type": "code",
   "execution_count": 50,
   "metadata": {
    "ExecuteTime": {
     "end_time": "2020-05-06T08:49:59.392877Z",
     "start_time": "2020-05-06T08:49:58.148952Z"
    }
   },
   "outputs": [
    {
     "data": {
      "text/plain": [
       "(370, 2)"
      ]
     },
     "execution_count": 50,
     "metadata": {},
     "output_type": "execute_result"
    }
   ],
   "source": [
    "from sklearn.manifold import TSNE\n",
    "X_embedded = TSNE(n_components=2).fit_transform(dataset)\n",
    "X_embedded.shape"
   ]
  },
  {
   "cell_type": "code",
   "execution_count": 51,
   "metadata": {
    "ExecuteTime": {
     "end_time": "2020-05-06T08:49:59.554277Z",
     "start_time": "2020-05-06T08:49:59.439498Z"
    }
   },
   "outputs": [
    {
     "data": {
      "text/plain": [
       "<matplotlib.collections.PathCollection at 0x7fb8587bf940>"
      ]
     },
     "execution_count": 51,
     "metadata": {},
     "output_type": "execute_result"
    },
    {
     "data": {
      "image/png": "[encoded data removed]",
      "text/plain": [
       "<Figure size 432x288 with 1 Axes>"
      ]
     },
     "metadata": {
      "needs_background": "light"
     },
     "output_type": "display_data"
    }
   ],
   "source": [
    "plt.scatter(X_embedded[:,0],X_embedded[:,1],c = y_kmeans)"
   ]
  },
  {
   "cell_type": "code",
   "execution_count": null,
   "metadata": {},
   "outputs": [],
   "source": []
  }
 ],
 "metadata": {
  "kernelspec": {
   "display_name": "Python 3",
   "language": "python",
   "name": "python3"
  },
  "language_info": {
   "codemirror_mode": {
    "name": "ipython",
    "version": 3
   },
   "file_extension": ".py",
   "mimetype": "text/x-python",
   "name": "python",
   "nbconvert_exporter": "python",
   "pygments_lexer": "ipython3",
   "version": "3.7.1"
  },
  "toc": {
   "base_numbering": 1,
   "nav_menu": {},
   "number_sections": true,
   "sideBar": true,
   "skip_h1_title": false,
   "title_cell": "Table of Contents",
   "title_sidebar": "Contents",
   "toc_cell": false,
   "toc_position": {},
   "toc_section_display": true,
   "toc_window_display": false
  },
  "varInspector": {
   "cols": {
    "lenName": 16,
    "lenType": 16,
    "lenVar": 40
   },
   "kernels_config": {
    "python": {
     "delete_cmd_postfix": "",
     "delete_cmd_prefix": "del ",
     "library": "var_list.py",
     "varRefreshCmd": "print(var_dic_list())"
    },
    "r": {
     "delete_cmd_postfix": ") ",
     "delete_cmd_prefix": "rm(",
     "library": "var_list.r",
     "varRefreshCmd": "cat(var_dic_list()) "
    }
   },
   "types_to_exclude": [
    "module",
    "function",
    "builtin_function_or_method",
    "instance",
    "_Feature"
   ],
   "window_display": false
  }
 },
 "nbformat": 4,
 "nbformat_minor": 4
}
