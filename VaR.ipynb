{
 "cells": [
  {
   "cell_type": "code",
   "execution_count": 1,
   "metadata": {},
   "outputs": [],
   "source": [
    "import math\n",
    "import csv\n",
    "from numpy import *  \n",
    "import numpy as np\n",
    "import pandas as pd  \n",
    "#假設投資人分別在鴻海、中鋼、富邦金、台化分別投資了四百萬、三百萬、一百萬、兩百萬\n",
    "#則風險值計算如下"
   ]
  },
  {
   "cell_type": "code",
   "execution_count": 2,
   "metadata": {},
   "outputs": [
    {
     "name": "stdout",
     "output_type": "stream",
     "text": [
      "[*********************100%***********************]  1 of 1 completed\n",
      "[*********************100%***********************]  1 of 1 completed\n",
      "[*********************100%***********************]  1 of 1 completed\n",
      "[*********************100%***********************]  1 of 1 completed\n"
     ]
    }
   ],
   "source": [
    "from pandas_datareader import data as web\n",
    "import datetime as dt\n",
    "import yfinance as yf\n",
    "yf.pdr_override()\n",
    "start = dt.datetime(2018, 3, 1)\n",
    "end = dt.datetime(2019, 8, 31)\n",
    "stk1 = web.get_data_yahoo(['2317.tw'],start, end)\n",
    "stk2 = web.get_data_yahoo(['2002.tw'],start, end)\n",
    "stk3 = web.get_data_yahoo(['2881.tw'],start, end)\n",
    "stk4 = web.get_data_yahoo(['1326.tw'],start, end)\n",
    "stk1.to_csv(r'stk1.csv')\n",
    "stk2.to_csv(r'stk2.csv')\n",
    "stk3.to_csv(r'stk3.csv')\n",
    "stk4.to_csv(r'stk4.csv')\n",
    "\n",
    "\n"
   ]
  },
  {
   "cell_type": "code",
   "execution_count": 3,
   "metadata": {},
   "outputs": [],
   "source": [
    "#將價格轉換為報酬率\n",
    "with open('stk1.csv','r') as fin:\n",
    "    with open('stk1b.csv','w', newline= '') as fout:\n",
    "        csvreader = csv.reader(fin, delimiter=',')\n",
    "        csvwriter = csv.writer(fout, delimiter=',')\n",
    "        header = next(csvreader)\n",
    "        csvwriter.writerow(header)\n",
    "        spec = 100\n",
    "        for row in csvreader:\n",
    "            rtn = (float(row[4])-spec)/spec            \n",
    "            spec = float(row[4])\n",
    "            row[1]=rtn            \n",
    "            csvwriter.writerow(row)\n",
    "with open('stk2.csv','r') as fin:\n",
    "    with open('stk2b.csv','w', newline= '') as fout:\n",
    "        csvreader = csv.reader(fin, delimiter=',')\n",
    "        csvwriter = csv.writer(fout, delimiter=',')\n",
    "        header = next(csvreader)\n",
    "        csvwriter.writerow(header)\n",
    "        spec = 100\n",
    "        for row in csvreader:\n",
    "            rtn = (float(row[4])-spec)/spec            \n",
    "            spec = float(row[4])\n",
    "            row[1]=rtn            \n",
    "            csvwriter.writerow(row)\n",
    "with open('stk3.csv','r') as fin:\n",
    "    with open('stk3b.csv','w', newline= '') as fout:\n",
    "        csvreader = csv.reader(fin, delimiter=',')\n",
    "        csvwriter = csv.writer(fout, delimiter=',')\n",
    "        header = next(csvreader)\n",
    "        csvwriter.writerow(header)\n",
    "        spec = 100\n",
    "        for row in csvreader:\n",
    "            rtn = (float(row[4])-spec)/spec            \n",
    "            spec = float(row[4])\n",
    "            row[1]=rtn            \n",
    "            csvwriter.writerow(row)\n",
    "with open('stk4.csv','r') as fin:\n",
    "    with open('stk4b.csv','w', newline= '') as fout:\n",
    "        csvreader = csv.reader(fin, delimiter=',')\n",
    "        csvwriter = csv.writer(fout, delimiter=',')\n",
    "        header = next(csvreader)\n",
    "        csvwriter.writerow(header)\n",
    "        spec = 100\n",
    "        for row in csvreader:\n",
    "            rtn = (float(row[4])-spec)/spec            \n",
    "            spec = float(row[4])\n",
    "            row[1]=rtn            \n",
    "            csvwriter.writerow(row)"
   ]
  },
  {
   "cell_type": "code",
   "execution_count": 4,
   "metadata": {},
   "outputs": [],
   "source": [
    "#計算varcov var\n",
    "df=pd.read_csv('stk1b.csv')\n",
    "alt=array(df[['Date','Open']])\n",
    "alt1 = alt.T[1]\n",
    "df=pd.read_csv('stk2b.csv')\n",
    "alt=array(df[['Date','Open']])\n",
    "alt2 = alt.T[1]\n",
    "df=pd.read_csv('stk3b.csv')\n",
    "alt=array(df[['Date','Open']])\n",
    "alt3 = alt.T[1]\n",
    "df=pd.read_csv('stk4b.csv')\n",
    "alt=array(df[['Date','Open']])\n",
    "alt4 = alt.T[1]\n",
    "Tm = np.vstack((alt1,alt2, alt3, alt4))\n",
    "Tm = pd.DataFrame(Tm, dtype = np.float)\n",
    "VarCov=np.cov(Tm)\n",
    "weight = [[4e6, 3e6, 1e6, 2e6]]\n",
    "wt = mat(weight).T\n",
    "m1 = np.dot(weight, VarCov)\n",
    "m2 = np.dot(m1, wt)\n",
    "VAR1day99 = 2.326* m2[0,0]**.5"
   ]
  },
  {
   "cell_type": "code",
   "execution_count": 5,
   "metadata": {},
   "outputs": [
    {
     "name": "stdout",
     "output_type": "stream",
     "text": [
      "鴻海報酬平均 -0.0006554249779989505\n",
      "鴻海報酬標準差 0.017496454805634495\n",
      "中鋼報酬平均 -0.002159448236246614\n",
      "中鋼報酬標準差 0.0400961891316371\n",
      "富邦金報酬平均 -0.0017308944906730506\n",
      "富邦金報酬標準差 0.026727082386655596\n",
      "台化報酬平均 -0.00023769128296645474\n",
      "台化報酬標準差 0.014470413814713909\n",
      "VC矩陣\n",
      "[[ 3.06957795e-04 -1.56407900e-04 -6.90169654e-05  8.53658349e-05]\n",
      " [-1.56407900e-04  1.61207314e-03  1.01156330e-03 -7.30641517e-05]\n",
      " [-6.90169654e-05  1.01156330e-03  7.16278066e-04 -2.11198416e-05]\n",
      " [ 8.53658349e-05 -7.30641517e-05 -2.11198416e-05  2.09961878e-04]]\n",
      "VaR = 353859.19890645694\n"
     ]
    }
   ],
   "source": [
    "print(\"鴻海報酬平均\",np.mean(alt1))\n",
    "print(\"鴻海報酬標準差\",np.std(alt1))\n",
    "print(\"中鋼報酬平均\",np.mean(alt2))\n",
    "print(\"中鋼報酬標準差\",np.std(alt2))\n",
    "print(\"富邦金報酬平均\",np.mean(alt3))\n",
    "print(\"富邦金報酬標準差\",np.std(alt3))\n",
    "print(\"台化報酬平均\",np.mean(alt4))\n",
    "print(\"台化報酬標準差\",np.std(alt4))\n",
    "print(\"VC矩陣\")\n",
    "print(VarCov)\n",
    "print(\"VaR =\",VAR1day99)"
   ]
  },
  {
   "cell_type": "code",
   "execution_count": 15,
   "metadata": {},
   "outputs": [
    {
     "data": {
      "text/plain": [
       "array([[ 860.32218311, 5076.02283285, 3432.660427  ,  521.07479952]])"
      ]
     },
     "execution_count": 15,
     "metadata": {},
     "output_type": "execute_result"
    }
   ],
   "source": [
    "m1"
   ]
  },
  {
   "cell_type": "code",
   "execution_count": null,
   "metadata": {},
   "outputs": [],
   "source": []
  }
 ],
 "metadata": {
  "kernelspec": {
   "display_name": "Python 3",
   "language": "python",
   "name": "python3"
  },
  "language_info": {
   "codemirror_mode": {
    "name": "ipython",
    "version": 3
   },
   "file_extension": ".py",
   "mimetype": "text/x-python",
   "name": "python",
   "nbconvert_exporter": "python",
   "pygments_lexer": "ipython3",
   "version": "3.7.4"
  }
 },
 "nbformat": 4,
 "nbformat_minor": 2
}
