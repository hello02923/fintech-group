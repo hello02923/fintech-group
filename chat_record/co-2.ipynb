{
 "cells": [
  {
   "cell_type": "markdown",
   "metadata": {},
   "source": [
    "# 0319-0417 chatbot 聊天記錄分析\n",
    "## 分成三個動作，從顧客移除自選股、新增自選股、以及查詢的狀況來討論。"
   ]
  },
  {
   "cell_type": "code",
   "execution_count": 1,
   "metadata": {},
   "outputs": [],
   "source": [
    "import pandas as pd\n",
    "df = pd.read_csv(\"/Users/lai/Desktop/test2.csv\")"
   ]
  },
  {
   "cell_type": "code",
   "execution_count": 2,
   "metadata": {},
   "outputs": [],
   "source": [
    "df1=df.head(362)"
   ]
  },
  {
   "cell_type": "code",
   "execution_count": 3,
   "metadata": {},
   "outputs": [],
   "source": [
    "table=pd.DataFrame(df1)\n",
    "csv_pd=table.to_csv('remove.csv')"
   ]
  },
  {
   "cell_type": "markdown",
   "metadata": {},
   "source": [
    "# 第一部分"
   ]
  },
  {
   "cell_type": "markdown",
   "metadata": {},
   "source": [
    "## 移除自選股、清理資料"
   ]
  },
  {
   "cell_type": "code",
   "execution_count": 4,
   "metadata": {},
   "outputs": [],
   "source": [
    "dfaa = pd.read_csv(\"/Users/lai/Desktop/remove.csv\")"
   ]
  },
  {
   "cell_type": "code",
   "execution_count": 5,
   "metadata": {},
   "outputs": [],
   "source": [
    "user_id=[]\n",
    "for i in dfaa['user_id']:\n",
    "    user_id.append(i)"
   ]
  },
  {
   "cell_type": "code",
   "execution_count": 6,
   "metadata": {},
   "outputs": [],
   "source": [
    "import re"
   ]
  },
  {
   "cell_type": "code",
   "execution_count": 7,
   "metadata": {},
   "outputs": [],
   "source": [
    "message = []\n",
    "for i in dfaa['message']:   \n",
    "    message.append(re.split(',|，|；|-',i))\n",
    "    "
   ]
  },
  {
   "cell_type": "code",
   "execution_count": 10,
   "metadata": {},
   "outputs": [],
   "source": [
    "# for i in message:\n",
    "#     del i[0]\n",
    "for i in message:\n",
    "    if '' in i:\n",
    "        i.remove('')"
   ]
  },
  {
   "cell_type": "code",
   "execution_count": null,
   "metadata": {},
   "outputs": [],
   "source": [
    "message"
   ]
  },
  {
   "cell_type": "code",
   "execution_count": null,
   "metadata": {},
   "outputs": [],
   "source": [
    "len(user_id) == len(message)"
   ]
  },
  {
   "cell_type": "code",
   "execution_count": 11,
   "metadata": {},
   "outputs": [],
   "source": [
    "item_dict={}\n",
    "for i in message:\n",
    "    for x in i:\n",
    "        if item_dict.get(x) == None:\n",
    "            item_dict[x] = {}"
   ]
  },
  {
   "cell_type": "code",
   "execution_count": null,
   "metadata": {},
   "outputs": [],
   "source": [
    "item_dict"
   ]
  },
  {
   "cell_type": "code",
   "execution_count": 12,
   "metadata": {},
   "outputs": [],
   "source": [
    "for item2 in item_dict: #每一個字詞\n",
    "    item_dict[item2]={}\n",
    "    user = 0\n",
    "    for item1 in message:#每一個紀錄的股票代碼\n",
    "        for term in item1:\n",
    "            num=0\n",
    "            if term == item2:\n",
    "                num+=1\n",
    "            if item_dict[item2].get(user_id[user]) == None:\n",
    "                item_dict[item2][user_id[user]] = num \n",
    "            else:\n",
    "                item_dict[item2][user_id[user]]+=num\n",
    "        user+=1"
   ]
  },
  {
   "cell_type": "code",
   "execution_count": null,
   "metadata": {},
   "outputs": [],
   "source": [
    "user"
   ]
  },
  {
   "cell_type": "code",
   "execution_count": 13,
   "metadata": {},
   "outputs": [],
   "source": [
    "\n",
    "user={}\n",
    "for i in range(len(user_id)):\n",
    "    \n",
    "    if user.get(user_id[i]) == None:\n",
    "        user[user_id[i]]=[]\n",
    "        for item in message[i]:\n",
    "            user[user_id[i]].append(item)\n",
    "    else:\n",
    "        for item in message[i]:\n",
    "            user[user_id[i]].append(item)\n",
    "    \n",
    "    "
   ]
  },
  {
   "cell_type": "code",
   "execution_count": null,
   "metadata": {},
   "outputs": [],
   "source": [
    "user"
   ]
  },
  {
   "cell_type": "code",
   "execution_count": 14,
   "metadata": {},
   "outputs": [],
   "source": [
    "linestock=[]\n",
    "for i in user:\n",
    "    linestock.append(user[i])"
   ]
  },
  {
   "cell_type": "code",
   "execution_count": null,
   "metadata": {},
   "outputs": [],
   "source": [
    "linestock"
   ]
  },
  {
   "cell_type": "code",
   "execution_count": 15,
   "metadata": {},
   "outputs": [],
   "source": [
    "u=[]\n",
    "from collections import Counter\n",
    "for i in Counter(user_id):\n",
    "    u.append(i)"
   ]
  },
  {
   "cell_type": "code",
   "execution_count": null,
   "metadata": {},
   "outputs": [],
   "source": [
    "len(u)"
   ]
  },
  {
   "cell_type": "code",
   "execution_count": null,
   "metadata": {},
   "outputs": [],
   "source": [
    "len(linestock)"
   ]
  },
  {
   "cell_type": "code",
   "execution_count": null,
   "metadata": {},
   "outputs": [],
   "source": [
    "message"
   ]
  },
  {
   "cell_type": "code",
   "execution_count": null,
   "metadata": {},
   "outputs": [],
   "source": [
    "item_dict"
   ]
  },
  {
   "cell_type": "markdown",
   "metadata": {},
   "source": [
    "# 離散矩正"
   ]
  },
  {
   "cell_type": "code",
   "execution_count": 16,
   "metadata": {
    "scrolled": true
   },
   "outputs": [
    {
     "data": {
      "text/html": [
       "<div>\n",
       "<style scoped>\n",
       "    .dataframe tbody tr th:only-of-type {\n",
       "        vertical-align: middle;\n",
       "    }\n",
       "\n",
       "    .dataframe tbody tr th {\n",
       "        vertical-align: top;\n",
       "    }\n",
       "\n",
       "    .dataframe thead th {\n",
       "        text-align: right;\n",
       "    }\n",
       "</style>\n",
       "<table border=\"1\" class=\"dataframe\">\n",
       "  <thead>\n",
       "    <tr style=\"text-align: right;\">\n",
       "      <th></th>\n",
       "      <th>1536</th>\n",
       "      <th>1565</th>\n",
       "      <th>1762</th>\n",
       "      <th>1789</th>\n",
       "      <th>4142</th>\n",
       "      <th>2313</th>\n",
       "      <th>3217</th>\n",
       "      <th>3653</th>\n",
       "      <th>6278</th>\n",
       "      <th>2368</th>\n",
       "      <th>...</th>\n",
       "      <th>5244</th>\n",
       "      <th>5248</th>\n",
       "      <th>5277</th>\n",
       "      <th>6455</th>\n",
       "      <th>6489</th>\n",
       "      <th>6559</th>\n",
       "      <th>6729</th>\n",
       "      <th>8179</th>\n",
       "      <th>6192</th>\n",
       "      <th>2303</th>\n",
       "    </tr>\n",
       "  </thead>\n",
       "  <tbody>\n",
       "    <tr>\n",
       "      <th>4</th>\n",
       "      <td>1</td>\n",
       "      <td>1</td>\n",
       "      <td>0</td>\n",
       "      <td>0</td>\n",
       "      <td>0</td>\n",
       "      <td>0</td>\n",
       "      <td>0</td>\n",
       "      <td>0</td>\n",
       "      <td>0</td>\n",
       "      <td>0</td>\n",
       "      <td>...</td>\n",
       "      <td>0</td>\n",
       "      <td>0</td>\n",
       "      <td>0</td>\n",
       "      <td>0</td>\n",
       "      <td>0</td>\n",
       "      <td>0</td>\n",
       "      <td>0</td>\n",
       "      <td>0</td>\n",
       "      <td>0</td>\n",
       "      <td>0</td>\n",
       "    </tr>\n",
       "    <tr>\n",
       "      <th>6</th>\n",
       "      <td>0</td>\n",
       "      <td>0</td>\n",
       "      <td>1</td>\n",
       "      <td>1</td>\n",
       "      <td>1</td>\n",
       "      <td>1</td>\n",
       "      <td>1</td>\n",
       "      <td>1</td>\n",
       "      <td>1</td>\n",
       "      <td>1</td>\n",
       "      <td>...</td>\n",
       "      <td>0</td>\n",
       "      <td>0</td>\n",
       "      <td>0</td>\n",
       "      <td>0</td>\n",
       "      <td>0</td>\n",
       "      <td>0</td>\n",
       "      <td>0</td>\n",
       "      <td>0</td>\n",
       "      <td>0</td>\n",
       "      <td>0</td>\n",
       "    </tr>\n",
       "    <tr>\n",
       "      <th>9</th>\n",
       "      <td>0</td>\n",
       "      <td>0</td>\n",
       "      <td>0</td>\n",
       "      <td>0</td>\n",
       "      <td>0</td>\n",
       "      <td>0</td>\n",
       "      <td>0</td>\n",
       "      <td>0</td>\n",
       "      <td>0</td>\n",
       "      <td>0</td>\n",
       "      <td>...</td>\n",
       "      <td>0</td>\n",
       "      <td>0</td>\n",
       "      <td>0</td>\n",
       "      <td>0</td>\n",
       "      <td>0</td>\n",
       "      <td>0</td>\n",
       "      <td>0</td>\n",
       "      <td>0</td>\n",
       "      <td>0</td>\n",
       "      <td>0</td>\n",
       "    </tr>\n",
       "    <tr>\n",
       "      <th>11</th>\n",
       "      <td>0</td>\n",
       "      <td>0</td>\n",
       "      <td>0</td>\n",
       "      <td>0</td>\n",
       "      <td>0</td>\n",
       "      <td>0</td>\n",
       "      <td>0</td>\n",
       "      <td>0</td>\n",
       "      <td>0</td>\n",
       "      <td>0</td>\n",
       "      <td>...</td>\n",
       "      <td>0</td>\n",
       "      <td>0</td>\n",
       "      <td>0</td>\n",
       "      <td>0</td>\n",
       "      <td>0</td>\n",
       "      <td>0</td>\n",
       "      <td>0</td>\n",
       "      <td>0</td>\n",
       "      <td>0</td>\n",
       "      <td>0</td>\n",
       "    </tr>\n",
       "    <tr>\n",
       "      <th>14</th>\n",
       "      <td>0</td>\n",
       "      <td>0</td>\n",
       "      <td>0</td>\n",
       "      <td>0</td>\n",
       "      <td>0</td>\n",
       "      <td>0</td>\n",
       "      <td>0</td>\n",
       "      <td>0</td>\n",
       "      <td>0</td>\n",
       "      <td>0</td>\n",
       "      <td>...</td>\n",
       "      <td>0</td>\n",
       "      <td>0</td>\n",
       "      <td>0</td>\n",
       "      <td>0</td>\n",
       "      <td>0</td>\n",
       "      <td>0</td>\n",
       "      <td>0</td>\n",
       "      <td>0</td>\n",
       "      <td>0</td>\n",
       "      <td>0</td>\n",
       "    </tr>\n",
       "  </tbody>\n",
       "</table>\n",
       "<p>5 rows × 382 columns</p>\n",
       "</div>"
      ],
      "text/plain": [
       "    1536  1565  1762  1789  4142  2313  3217  3653  6278  2368  ...  5244  \\\n",
       "4      1     1     0     0     0     0     0     0     0     0  ...     0   \n",
       "6      0     0     1     1     1     1     1     1     1     1  ...     0   \n",
       "9      0     0     0     0     0     0     0     0     0     0  ...     0   \n",
       "11     0     0     0     0     0     0     0     0     0     0  ...     0   \n",
       "14     0     0     0     0     0     0     0     0     0     0  ...     0   \n",
       "\n",
       "    5248  5277  6455  6489  6559  6729  8179  6192  2303  \n",
       "4      0     0     0     0     0     0     0     0     0  \n",
       "6      0     0     0     0     0     0     0     0     0  \n",
       "9      0     0     0     0     0     0     0     0     0  \n",
       "11     0     0     0     0     0     0     0     0     0  \n",
       "14     0     0     0     0     0     0     0     0     0  \n",
       "\n",
       "[5 rows x 382 columns]"
      ]
     },
     "execution_count": 16,
     "metadata": {},
     "output_type": "execute_result"
    }
   ],
   "source": [
    "TDM = pd.DataFrame.from_dict(item_dict)\n",
    "TDM.head()"
   ]
  },
  {
   "cell_type": "markdown",
   "metadata": {},
   "source": [
    "# Co-Occurrence Matrix"
   ]
  },
  {
   "cell_type": "code",
   "execution_count": null,
   "metadata": {},
   "outputs": [],
   "source": [
    "item_dict"
   ]
  },
  {
   "cell_type": "code",
   "execution_count": 17,
   "metadata": {},
   "outputs": [],
   "source": [
    "item_dict={}\n",
    "for i in message:\n",
    "    for x in i:\n",
    "        if item_dict.get(x) == None:\n",
    "            item_dict[x] = {}\n",
    "\n",
    "for line in linestock:                  \n",
    "    for name1 in line:                  \n",
    "        for name2 in line:             \n",
    "            if name1 == name2:\n",
    "                continue\n",
    "            if item_dict[name1].get(name2) is None:     \n",
    "                item_dict[name1][name2]= 1\n",
    "            else:\n",
    "                item_dict[name1][name2] = item_dict[name1][name2]+ 1       \n"
   ]
  },
  {
   "cell_type": "code",
   "execution_count": null,
   "metadata": {},
   "outputs": [],
   "source": [
    "item_dict"
   ]
  },
  {
   "cell_type": "code",
   "execution_count": 18,
   "metadata": {},
   "outputs": [],
   "source": [
    "co_occur_by_records=[]\n",
    "for name,edges in item_dict.items():\n",
    "    for v,w in edges.items():\n",
    "        if w > 2:\n",
    "            co_occur_by_records.append([name, v, w]) "
   ]
  },
  {
   "cell_type": "code",
   "execution_count": 20,
   "metadata": {},
   "outputs": [
    {
     "data": {
      "text/plain": [
       "[['2313', '3481', 3],\n",
       " ['3653', '3481', 3],\n",
       " ['2368', '3481', 3],\n",
       " ['3481', '2313', 3],\n",
       " ['3481', '3653', 3],\n",
       " ['3481', '2368', 3],\n",
       " ['3481', '3017', 3],\n",
       " ['3481', '4935', 3],\n",
       " ['3481', '3338', 3],\n",
       " ['3481', '6147', 3],\n",
       " ['3481', '8358', 3],\n",
       " ['3481', '2499', 4],\n",
       " ['3481', '3673', 4],\n",
       " ['3481', '6164', 4],\n",
       " ['3481', '5349', 4],\n",
       " ['3017', '3481', 3],\n",
       " ['3017', '6153', 3],\n",
       " ['8086', '3548', 3],\n",
       " ['8086', '', 3],\n",
       " ['4935', '3481', 3],\n",
       " ['4935', '3548', 3],\n",
       " ['4935', '', 3],\n",
       " ['3338', '3481', 3],\n",
       " ['5349', '2499', 4],\n",
       " ['5349', '3673', 4],\n",
       " ['5349', '6164', 4],\n",
       " ['5349', '3481', 4],\n",
       " ['2383', '6153', 3],\n",
       " ['2402', '6153', 3],\n",
       " ['6153', '2383', 3],\n",
       " ['6153', '2402', 3],\n",
       " ['6153', '3017', 3],\n",
       " ['6153', '6213', 3],\n",
       " ['6213', '6153', 3],\n",
       " ['6213', '6488', 6],\n",
       " ['2327', '3548', 3],\n",
       " ['2327', '', 3],\n",
       " ['3376', '3548', 3],\n",
       " ['3376', '', 3],\n",
       " ['3548', '2327', 3],\n",
       " ['3548', '3376', 3],\n",
       " ['3548', '4935', 3],\n",
       " ['3548', '4968', 3],\n",
       " ['3548', '6238', 3],\n",
       " ['3548', '6271', 3],\n",
       " ['3548', '6451', 6],\n",
       " ['3548', '', 9],\n",
       " ['3548', '6531', 3],\n",
       " ['3548', '6679', 3],\n",
       " ['3548', '8086', 3],\n",
       " ['4968', '3548', 3],\n",
       " ['4968', '', 3],\n",
       " ['6238', '3548', 3],\n",
       " ['6238', '', 3],\n",
       " ['6271', '3548', 3],\n",
       " ['6271', '', 3],\n",
       " ['6451', '3548', 6],\n",
       " ['6451', '', 6],\n",
       " ['', '2327', 3],\n",
       " ['', '3376', 3],\n",
       " ['', '3548', 9],\n",
       " ['', '4935', 3],\n",
       " ['', '4968', 3],\n",
       " ['', '6238', 3],\n",
       " ['', '6271', 3],\n",
       " ['', '6451', 6],\n",
       " ['', '6531', 3],\n",
       " ['', '6679', 3],\n",
       " ['', '8086', 3],\n",
       " ['6531', '3548', 3],\n",
       " ['6531', '', 3],\n",
       " ['6679', '3548', 3],\n",
       " ['6679', '', 3],\n",
       " ['8358', '3481', 3],\n",
       " ['6213\\n', '6488', 3],\n",
       " ['6488', '6213', 6],\n",
       " ['6488', '6213\\n', 3],\n",
       " ['6147', '3481', 3],\n",
       " ['2499', '3673', 4],\n",
       " ['2499', '6164', 4],\n",
       " ['2499', '3481', 4],\n",
       " ['2499', '5349', 4],\n",
       " ['3673', '2499', 4],\n",
       " ['3673', '6164', 4],\n",
       " ['3673', '3481', 4],\n",
       " ['3673', '5349', 4],\n",
       " ['6164', '2499', 4],\n",
       " ['6164', '3673', 4],\n",
       " ['6164', '3481', 4],\n",
       " ['6164', '5349', 4]]"
      ]
     },
     "execution_count": 20,
     "metadata": {},
     "output_type": "execute_result"
    }
   ],
   "source": [
    "co_occur_by_records"
   ]
  },
  {
   "cell_type": "code",
   "execution_count": 29,
   "metadata": {},
   "outputs": [],
   "source": [
    "import networkx as nx\n",
    "import matplotlib.pyplot as plt\n",
    "import codecs\n",
    "import numpy as np"
   ]
  },
  {
   "cell_type": "code",
   "execution_count": 30,
   "metadata": {},
   "outputs": [
    {
     "data": {
      "text/html": [
       "<div>\n",
       "<style scoped>\n",
       "    .dataframe tbody tr th:only-of-type {\n",
       "        vertical-align: middle;\n",
       "    }\n",
       "\n",
       "    .dataframe tbody tr th {\n",
       "        vertical-align: top;\n",
       "    }\n",
       "\n",
       "    .dataframe thead th {\n",
       "        text-align: right;\n",
       "    }\n",
       "</style>\n",
       "<table border=\"1\" class=\"dataframe\">\n",
       "  <thead>\n",
       "    <tr style=\"text-align: right;\">\n",
       "      <th></th>\n",
       "      <th>6164</th>\n",
       "      <th>5349</th>\n",
       "      <th>3376</th>\n",
       "      <th>6451</th>\n",
       "      <th></th>\n",
       "      <th>3481</th>\n",
       "      <th>3548</th>\n",
       "      <th>2402</th>\n",
       "      <th>6213</th>\n",
       "      <th>3017</th>\n",
       "      <th>...</th>\n",
       "      <th>6271</th>\n",
       "      <th>6531</th>\n",
       "      <th>6488</th>\n",
       "      <th>4968</th>\n",
       "      <th>2313</th>\n",
       "      <th>2383</th>\n",
       "      <th>6147</th>\n",
       "      <th>6238</th>\n",
       "      <th>3653</th>\n",
       "      <th>2327</th>\n",
       "    </tr>\n",
       "  </thead>\n",
       "  <tbody>\n",
       "    <tr>\n",
       "      <th>6164</th>\n",
       "      <td>NaN</td>\n",
       "      <td>4.0</td>\n",
       "      <td>NaN</td>\n",
       "      <td>NaN</td>\n",
       "      <td>NaN</td>\n",
       "      <td>4.0</td>\n",
       "      <td>NaN</td>\n",
       "      <td>NaN</td>\n",
       "      <td>NaN</td>\n",
       "      <td>NaN</td>\n",
       "      <td>...</td>\n",
       "      <td>NaN</td>\n",
       "      <td>NaN</td>\n",
       "      <td>NaN</td>\n",
       "      <td>NaN</td>\n",
       "      <td>NaN</td>\n",
       "      <td>NaN</td>\n",
       "      <td>NaN</td>\n",
       "      <td>NaN</td>\n",
       "      <td>NaN</td>\n",
       "      <td>NaN</td>\n",
       "    </tr>\n",
       "    <tr>\n",
       "      <th>5349</th>\n",
       "      <td>4.0</td>\n",
       "      <td>NaN</td>\n",
       "      <td>NaN</td>\n",
       "      <td>NaN</td>\n",
       "      <td>NaN</td>\n",
       "      <td>4.0</td>\n",
       "      <td>NaN</td>\n",
       "      <td>NaN</td>\n",
       "      <td>NaN</td>\n",
       "      <td>NaN</td>\n",
       "      <td>...</td>\n",
       "      <td>NaN</td>\n",
       "      <td>NaN</td>\n",
       "      <td>NaN</td>\n",
       "      <td>NaN</td>\n",
       "      <td>NaN</td>\n",
       "      <td>NaN</td>\n",
       "      <td>NaN</td>\n",
       "      <td>NaN</td>\n",
       "      <td>NaN</td>\n",
       "      <td>NaN</td>\n",
       "    </tr>\n",
       "    <tr>\n",
       "      <th>3376</th>\n",
       "      <td>NaN</td>\n",
       "      <td>NaN</td>\n",
       "      <td>NaN</td>\n",
       "      <td>NaN</td>\n",
       "      <td>3.0</td>\n",
       "      <td>NaN</td>\n",
       "      <td>3.0</td>\n",
       "      <td>NaN</td>\n",
       "      <td>NaN</td>\n",
       "      <td>NaN</td>\n",
       "      <td>...</td>\n",
       "      <td>NaN</td>\n",
       "      <td>NaN</td>\n",
       "      <td>NaN</td>\n",
       "      <td>NaN</td>\n",
       "      <td>NaN</td>\n",
       "      <td>NaN</td>\n",
       "      <td>NaN</td>\n",
       "      <td>NaN</td>\n",
       "      <td>NaN</td>\n",
       "      <td>NaN</td>\n",
       "    </tr>\n",
       "    <tr>\n",
       "      <th>6451</th>\n",
       "      <td>NaN</td>\n",
       "      <td>NaN</td>\n",
       "      <td>NaN</td>\n",
       "      <td>NaN</td>\n",
       "      <td>6.0</td>\n",
       "      <td>NaN</td>\n",
       "      <td>6.0</td>\n",
       "      <td>NaN</td>\n",
       "      <td>NaN</td>\n",
       "      <td>NaN</td>\n",
       "      <td>...</td>\n",
       "      <td>NaN</td>\n",
       "      <td>NaN</td>\n",
       "      <td>NaN</td>\n",
       "      <td>NaN</td>\n",
       "      <td>NaN</td>\n",
       "      <td>NaN</td>\n",
       "      <td>NaN</td>\n",
       "      <td>NaN</td>\n",
       "      <td>NaN</td>\n",
       "      <td>NaN</td>\n",
       "    </tr>\n",
       "    <tr>\n",
       "      <th></th>\n",
       "      <td>NaN</td>\n",
       "      <td>NaN</td>\n",
       "      <td>3.0</td>\n",
       "      <td>6.0</td>\n",
       "      <td>NaN</td>\n",
       "      <td>NaN</td>\n",
       "      <td>9.0</td>\n",
       "      <td>NaN</td>\n",
       "      <td>NaN</td>\n",
       "      <td>NaN</td>\n",
       "      <td>...</td>\n",
       "      <td>3.0</td>\n",
       "      <td>3.0</td>\n",
       "      <td>NaN</td>\n",
       "      <td>3.0</td>\n",
       "      <td>NaN</td>\n",
       "      <td>NaN</td>\n",
       "      <td>NaN</td>\n",
       "      <td>3.0</td>\n",
       "      <td>NaN</td>\n",
       "      <td>3.0</td>\n",
       "    </tr>\n",
       "  </tbody>\n",
       "</table>\n",
       "<p>5 rows × 30 columns</p>\n",
       "</div>"
      ],
      "text/plain": [
       "      6164  5349  3376  6451       3481  3548  2402  6213  3017  ...  6271  \\\n",
       "6164   NaN   4.0   NaN   NaN  NaN   4.0   NaN   NaN   NaN   NaN  ...   NaN   \n",
       "5349   4.0   NaN   NaN   NaN  NaN   4.0   NaN   NaN   NaN   NaN  ...   NaN   \n",
       "3376   NaN   NaN   NaN   NaN  3.0   NaN   3.0   NaN   NaN   NaN  ...   NaN   \n",
       "6451   NaN   NaN   NaN   NaN  6.0   NaN   6.0   NaN   NaN   NaN  ...   NaN   \n",
       "       NaN   NaN   3.0   6.0  NaN   NaN   9.0   NaN   NaN   NaN  ...   3.0   \n",
       "\n",
       "      6531  6488  4968  2313  2383  6147  6238  3653  2327  \n",
       "6164   NaN   NaN   NaN   NaN   NaN   NaN   NaN   NaN   NaN  \n",
       "5349   NaN   NaN   NaN   NaN   NaN   NaN   NaN   NaN   NaN  \n",
       "3376   NaN   NaN   NaN   NaN   NaN   NaN   NaN   NaN   NaN  \n",
       "6451   NaN   NaN   NaN   NaN   NaN   NaN   NaN   NaN   NaN  \n",
       "       3.0   NaN   3.0   NaN   NaN   NaN   3.0   NaN   3.0  \n",
       "\n",
       "[5 rows x 30 columns]"
      ]
     },
     "execution_count": 30,
     "metadata": {},
     "output_type": "execute_result"
    }
   ],
   "source": [
    "np.random.shuffle(co_occur_by_records)\n",
    "temp_matrix = pd.DataFrame()\n",
    "for i in co_occur_by_records:\n",
    "    temp_matrix.at[i[0], i[1]] = i[2]\n",
    "co_occurrence_matrix_by_records = pd.DataFrame()\n",
    "for i in temp_matrix:\n",
    "    for j in temp_matrix:\n",
    "        co_occurrence_matrix_by_records.at[i, j] = temp_matrix.at[i, j]\n",
    "co_occurrence_matrix_by_records.head()"
   ]
  },
  {
   "cell_type": "markdown",
   "metadata": {},
   "source": [
    "# 共線圖"
   ]
  },
  {
   "cell_type": "code",
   "execution_count": 31,
   "metadata": {},
   "outputs": [
    {
     "name": "stderr",
     "output_type": "stream",
     "text": [
      "/Users/lai/anaconda3/lib/python3.7/site-packages/networkx/drawing/nx_pylab.py:611: MatplotlibDeprecationWarning: isinstance(..., numbers.Number)\n",
      "  if cb.is_numlike(alpha):\n",
      "/Users/lai/anaconda3/lib/python3.7/site-packages/matplotlib/font_manager.py:1241: UserWarning: findfont: Font family ['sans-serif'] not found. Falling back to DejaVu Sans.\n",
      "  (prop.get_family(), self.defaultFamily[fontext]))\n"
     ]
    },
    {
     "data": {
      "image/png": "[encoded data removed]",
      "text/plain": [
       "<Figure size 1080x1080 with 1 Axes>"
      ]
     },
     "metadata": {
      "needs_background": "light"
     },
     "output_type": "display_data"
    }
   ],
   "source": [
    "plt.figure(figsize=(15,15))\n",
    "plt.rcParams['font.sans-serif'] = ['SimHei']   \n",
    "plt.rcParams['font.family']='sans-serif'\n",
    "g = nx.Graph()\n",
    "g.add_weighted_edges_from(co_occur_by_records)\n",
    "pos=nx.spring_layout(g)\n",
    "nx.draw_networkx_nodes(g, pos, alpha=0.8,node_size=[val*50 for (node, val) in g.degree()], node_color='#08c5b1')\n",
    "nx.draw_networkx_edges(g, pos, node_color='b', alpha=0.2)\n",
    "for p in pos:  # raise text positions\n",
    "    pos[p][1] = pos[p][1] + 0.03\n",
    "nx.draw_networkx_labels(g, pos, font_size = 15, font_family='sans-serif', alpha=0.8)\n",
    "plt.savefig(\"remove.png\", dpi=100)\n",
    "plt.show()"
   ]
  },
  {
   "cell_type": "markdown",
   "metadata": {},
   "source": [
    "可以發現當顧客移除3481跟3548附加也會一起移除的股票，那就可以得知這些股票是相關聯的那推播時也能一併的推播"
   ]
  },
  {
   "cell_type": "markdown",
   "metadata": {},
   "source": [
    "# 熱度圖"
   ]
  },
  {
   "cell_type": "code",
   "execution_count": 32,
   "metadata": {},
   "outputs": [
    {
     "data": {
      "image/png": "[encoded data removed]",
      "text/plain": [
       "<Figure size 720x720 with 2 Axes>"
      ]
     },
     "metadata": {
      "needs_background": "light"
     },
     "output_type": "display_data"
    }
   ],
   "source": [
    "import seaborn as sn\n",
    "plt.figure(figsize=(10,10))\n",
    "sn.heatmap(co_occurrence_matrix_by_records,cmap='YlGnBu')\n",
    "#plt.savefig(\"images/用詞熱度圖_以每筆通聯紀錄為一句.png\", dpi=100)\n",
    "plt.show()"
   ]
  },
  {
   "cell_type": "markdown",
   "metadata": {},
   "source": [
    "# 第二部分"
   ]
  },
  {
   "cell_type": "markdown",
   "metadata": {},
   "source": [
    "# 新增 動作"
   ]
  },
  {
   "cell_type": "code",
   "execution_count": 33,
   "metadata": {},
   "outputs": [],
   "source": [
    "df2=df[395:1456]\n",
    "table=pd.DataFrame(df2)\n",
    "csv_pd=table.to_csv('remove1.csv')"
   ]
  },
  {
   "cell_type": "code",
   "execution_count": 34,
   "metadata": {},
   "outputs": [],
   "source": [
    "dfbb = pd.read_csv(\"remove1.csv\")"
   ]
  },
  {
   "cell_type": "code",
   "execution_count": 35,
   "metadata": {},
   "outputs": [],
   "source": [
    "user_id=[]\n",
    "for i in dfbb['user_id']:\n",
    "    user_id.append(i)"
   ]
  },
  {
   "cell_type": "code",
   "execution_count": 36,
   "metadata": {},
   "outputs": [],
   "source": [
    "import re"
   ]
  },
  {
   "cell_type": "code",
   "execution_count": null,
   "metadata": {},
   "outputs": [],
   "source": [
    "dfbb['message']"
   ]
  },
  {
   "cell_type": "code",
   "execution_count": 37,
   "metadata": {},
   "outputs": [],
   "source": [
    "message = []\n",
    "for i in dfbb['message']:\n",
    "    message.append(re.split(r'[;,+、＋]', i))"
   ]
  },
  {
   "cell_type": "code",
   "execution_count": null,
   "metadata": {},
   "outputs": [],
   "source": [
    "message"
   ]
  },
  {
   "cell_type": "code",
   "execution_count": 38,
   "metadata": {},
   "outputs": [],
   "source": [
    "for i in message:\n",
    "    if '' in i:\n",
    "        i.remove('')"
   ]
  },
  {
   "cell_type": "code",
   "execution_count": null,
   "metadata": {},
   "outputs": [],
   "source": [
    "message"
   ]
  },
  {
   "cell_type": "code",
   "execution_count": 39,
   "metadata": {},
   "outputs": [],
   "source": [
    "item_dict={}\n",
    "for i in message:\n",
    "    for x in i:\n",
    "        if item_dict.get(x) == None:\n",
    "            item_dict[x] = {}"
   ]
  },
  {
   "cell_type": "code",
   "execution_count": null,
   "metadata": {},
   "outputs": [],
   "source": [
    "item_dict"
   ]
  },
  {
   "cell_type": "code",
   "execution_count": 40,
   "metadata": {},
   "outputs": [],
   "source": [
    "for item2 in item_dict: #每一個字詞\n",
    "    item_dict[item2]={}\n",
    "    user = 0\n",
    "    for item1 in message:#每一個紀錄的股票代碼\n",
    "        for term in item1:\n",
    "            num=0\n",
    "            if term == item2:\n",
    "                num+=1\n",
    "            if item_dict[item2].get(user_id[user]) == None:\n",
    "                item_dict[item2][user_id[user]] = num \n",
    "            else:\n",
    "                item_dict[item2][user_id[user]]+=num\n",
    "        user+=1"
   ]
  },
  {
   "cell_type": "code",
   "execution_count": 41,
   "metadata": {},
   "outputs": [],
   "source": [
    "user={}\n",
    "for i in range(len(user_id)):\n",
    "    \n",
    "    if user.get(user_id[i]) == None:\n",
    "        user[user_id[i]]=[]\n",
    "        for item in message[i]:\n",
    "            user[user_id[i]].append(item)\n",
    "    else:\n",
    "        for item in message[i]:\n",
    "            user[user_id[i]].append(item)\n",
    "    "
   ]
  },
  {
   "cell_type": "code",
   "execution_count": 42,
   "metadata": {},
   "outputs": [],
   "source": [
    "linestock=[]\n",
    "for i in user:\n",
    "    linestock.append(user[i])"
   ]
  },
  {
   "cell_type": "code",
   "execution_count": 43,
   "metadata": {},
   "outputs": [
    {
     "data": {
      "text/html": [
       "<div>\n",
       "<style scoped>\n",
       "    .dataframe tbody tr th:only-of-type {\n",
       "        vertical-align: middle;\n",
       "    }\n",
       "\n",
       "    .dataframe tbody tr th {\n",
       "        vertical-align: top;\n",
       "    }\n",
       "\n",
       "    .dataframe thead th {\n",
       "        text-align: right;\n",
       "    }\n",
       "</style>\n",
       "<table border=\"1\" class=\"dataframe\">\n",
       "  <thead>\n",
       "    <tr style=\"text-align: right;\">\n",
       "      <th></th>\n",
       "      <th>信紘科</th>\n",
       "      <th>0050</th>\n",
       "      <th>0056</th>\n",
       "      <th>00672L</th>\n",
       "      <th>08007</th>\n",
       "      <th>080070</th>\n",
       "      <th>1101</th>\n",
       "      <th>1102</th>\n",
       "      <th>1216</th>\n",
       "      <th>1301</th>\n",
       "      <th>...</th>\n",
       "      <th>臻鼎</th>\n",
       "      <th>興能高</th>\n",
       "      <th>興富發</th>\n",
       "      <th>優群</th>\n",
       "      <th>環球晶</th>\n",
       "      <th>鴻海</th>\n",
       "      <th>燿華</th>\n",
       "      <th>BRKB</th>\n",
       "      <th>M31</th>\n",
       "      <th>VHQ</th>\n",
       "    </tr>\n",
       "  </thead>\n",
       "  <tbody>\n",
       "    <tr>\n",
       "      <th>317</th>\n",
       "      <td>1</td>\n",
       "      <td>0</td>\n",
       "      <td>0</td>\n",
       "      <td>0</td>\n",
       "      <td>0</td>\n",
       "      <td>0</td>\n",
       "      <td>0</td>\n",
       "      <td>0</td>\n",
       "      <td>0</td>\n",
       "      <td>0</td>\n",
       "      <td>...</td>\n",
       "      <td>0</td>\n",
       "      <td>1</td>\n",
       "      <td>0</td>\n",
       "      <td>0</td>\n",
       "      <td>0</td>\n",
       "      <td>0</td>\n",
       "      <td>0</td>\n",
       "      <td>0</td>\n",
       "      <td>0</td>\n",
       "      <td>0</td>\n",
       "    </tr>\n",
       "    <tr>\n",
       "      <th>637</th>\n",
       "      <td>0</td>\n",
       "      <td>1</td>\n",
       "      <td>1</td>\n",
       "      <td>0</td>\n",
       "      <td>0</td>\n",
       "      <td>0</td>\n",
       "      <td>0</td>\n",
       "      <td>0</td>\n",
       "      <td>0</td>\n",
       "      <td>0</td>\n",
       "      <td>...</td>\n",
       "      <td>0</td>\n",
       "      <td>0</td>\n",
       "      <td>0</td>\n",
       "      <td>0</td>\n",
       "      <td>0</td>\n",
       "      <td>0</td>\n",
       "      <td>0</td>\n",
       "      <td>0</td>\n",
       "      <td>0</td>\n",
       "      <td>0</td>\n",
       "    </tr>\n",
       "    <tr>\n",
       "      <th>418</th>\n",
       "      <td>0</td>\n",
       "      <td>1</td>\n",
       "      <td>0</td>\n",
       "      <td>0</td>\n",
       "      <td>0</td>\n",
       "      <td>0</td>\n",
       "      <td>0</td>\n",
       "      <td>0</td>\n",
       "      <td>0</td>\n",
       "      <td>0</td>\n",
       "      <td>...</td>\n",
       "      <td>0</td>\n",
       "      <td>0</td>\n",
       "      <td>0</td>\n",
       "      <td>0</td>\n",
       "      <td>0</td>\n",
       "      <td>0</td>\n",
       "      <td>0</td>\n",
       "      <td>0</td>\n",
       "      <td>0</td>\n",
       "      <td>0</td>\n",
       "    </tr>\n",
       "    <tr>\n",
       "      <th>194</th>\n",
       "      <td>0</td>\n",
       "      <td>1</td>\n",
       "      <td>0</td>\n",
       "      <td>0</td>\n",
       "      <td>0</td>\n",
       "      <td>0</td>\n",
       "      <td>0</td>\n",
       "      <td>0</td>\n",
       "      <td>0</td>\n",
       "      <td>0</td>\n",
       "      <td>...</td>\n",
       "      <td>0</td>\n",
       "      <td>0</td>\n",
       "      <td>0</td>\n",
       "      <td>0</td>\n",
       "      <td>0</td>\n",
       "      <td>0</td>\n",
       "      <td>0</td>\n",
       "      <td>0</td>\n",
       "      <td>0</td>\n",
       "      <td>0</td>\n",
       "    </tr>\n",
       "    <tr>\n",
       "      <th>223</th>\n",
       "      <td>0</td>\n",
       "      <td>0</td>\n",
       "      <td>0</td>\n",
       "      <td>1</td>\n",
       "      <td>0</td>\n",
       "      <td>0</td>\n",
       "      <td>0</td>\n",
       "      <td>0</td>\n",
       "      <td>0</td>\n",
       "      <td>0</td>\n",
       "      <td>...</td>\n",
       "      <td>0</td>\n",
       "      <td>0</td>\n",
       "      <td>0</td>\n",
       "      <td>0</td>\n",
       "      <td>0</td>\n",
       "      <td>0</td>\n",
       "      <td>0</td>\n",
       "      <td>0</td>\n",
       "      <td>0</td>\n",
       "      <td>0</td>\n",
       "    </tr>\n",
       "  </tbody>\n",
       "</table>\n",
       "<p>5 rows × 659 columns</p>\n",
       "</div>"
      ],
      "text/plain": [
       "      信紘科  0050  0056  00672L  08007  080070  1101  1102  1216  1301  ...  臻鼎  \\\n",
       "317     1     0     0       0      0       0     0     0     0     0  ...   0   \n",
       "637     0     1     1       0      0       0     0     0     0     0  ...   0   \n",
       "418     0     1     0       0      0       0     0     0     0     0  ...   0   \n",
       "194     0     1     0       0      0       0     0     0     0     0  ...   0   \n",
       "223     0     0     0       1      0       0     0     0     0     0  ...   0   \n",
       "\n",
       "     興能高  興富發  優群  環球晶  鴻海  燿華  BRKB  M31  VHQ  \n",
       "317    1    0   0    0   0   0     0    0    0  \n",
       "637    0    0   0    0   0   0     0    0    0  \n",
       "418    0    0   0    0   0   0     0    0    0  \n",
       "194    0    0   0    0   0   0     0    0    0  \n",
       "223    0    0   0    0   0   0     0    0    0  \n",
       "\n",
       "[5 rows x 659 columns]"
      ]
     },
     "execution_count": 43,
     "metadata": {},
     "output_type": "execute_result"
    }
   ],
   "source": [
    "TDM = pd.DataFrame.from_dict(item_dict)\n",
    "TDM.head()"
   ]
  },
  {
   "cell_type": "code",
   "execution_count": 44,
   "metadata": {},
   "outputs": [],
   "source": [
    "item_dict={}\n",
    "for i in message:\n",
    "    for x in i:\n",
    "        if item_dict.get(x) == None:\n",
    "            item_dict[x] = {}\n",
    "\n",
    "for line in linestock:                  \n",
    "    for name1 in line:                  \n",
    "        for name2 in line:             \n",
    "            if name1 == name2:\n",
    "                continue\n",
    "            if item_dict[name1].get(name2) is None:     \n",
    "                item_dict[name1][name2]= 1\n",
    "            else:\n",
    "                item_dict[name1][name2] = item_dict[name1][name2]+ 1       \n",
    "\n",
    "\n"
   ]
  },
  {
   "cell_type": "code",
   "execution_count": 45,
   "metadata": {},
   "outputs": [],
   "source": [
    "co_occur_by_records=[]\n",
    "for name,edges in item_dict.items():\n",
    "    for v,w in edges.items():\n",
    "        if w > 8:\n",
    "            co_occur_by_records.append([name, v, w]) "
   ]
  },
  {
   "cell_type": "code",
   "execution_count": null,
   "metadata": {},
   "outputs": [],
   "source": [
    "len(co_occur_by_records)"
   ]
  },
  {
   "cell_type": "code",
   "execution_count": null,
   "metadata": {},
   "outputs": [],
   "source": [
    "co_occur_by_records"
   ]
  },
  {
   "cell_type": "code",
   "execution_count": 46,
   "metadata": {},
   "outputs": [
    {
     "data": {
      "text/html": [
       "<div>\n",
       "<style scoped>\n",
       "    .dataframe tbody tr th:only-of-type {\n",
       "        vertical-align: middle;\n",
       "    }\n",
       "\n",
       "    .dataframe tbody tr th {\n",
       "        vertical-align: top;\n",
       "    }\n",
       "\n",
       "    .dataframe thead th {\n",
       "        text-align: right;\n",
       "    }\n",
       "</style>\n",
       "<table border=\"1\" class=\"dataframe\">\n",
       "  <thead>\n",
       "    <tr style=\"text-align: right;\">\n",
       "      <th></th>\n",
       "      <th>3034</th>\n",
       "      <th>2330</th>\n",
       "      <th>3533</th>\n",
       "      <th>3105</th>\n",
       "      <th>1477</th>\n",
       "      <th>5347</th>\n",
       "      <th>6269</th>\n",
       "      <th>2454</th>\n",
       "      <th>2383</th>\n",
       "      <th>4966</th>\n",
       "      <th>...</th>\n",
       "      <th>2317</th>\n",
       "      <th>6147</th>\n",
       "      <th>3008</th>\n",
       "      <th>2379</th>\n",
       "      <th>6274</th>\n",
       "      <th>1301</th>\n",
       "      <th>2382</th>\n",
       "      <th>3711</th>\n",
       "      <th>3227</th>\n",
       "      <th>2891</th>\n",
       "    </tr>\n",
       "  </thead>\n",
       "  <tbody>\n",
       "    <tr>\n",
       "      <th>3034</th>\n",
       "      <td>NaN</td>\n",
       "      <td>14.0</td>\n",
       "      <td>NaN</td>\n",
       "      <td>NaN</td>\n",
       "      <td>NaN</td>\n",
       "      <td>NaN</td>\n",
       "      <td>NaN</td>\n",
       "      <td>NaN</td>\n",
       "      <td>NaN</td>\n",
       "      <td>NaN</td>\n",
       "      <td>...</td>\n",
       "      <td>NaN</td>\n",
       "      <td>NaN</td>\n",
       "      <td>NaN</td>\n",
       "      <td>NaN</td>\n",
       "      <td>NaN</td>\n",
       "      <td>NaN</td>\n",
       "      <td>NaN</td>\n",
       "      <td>NaN</td>\n",
       "      <td>NaN</td>\n",
       "      <td>NaN</td>\n",
       "    </tr>\n",
       "    <tr>\n",
       "      <th>2330</th>\n",
       "      <td>14.0</td>\n",
       "      <td>NaN</td>\n",
       "      <td>10.0</td>\n",
       "      <td>12.0</td>\n",
       "      <td>9.0</td>\n",
       "      <td>10.0</td>\n",
       "      <td>20.0</td>\n",
       "      <td>10.0</td>\n",
       "      <td>9.0</td>\n",
       "      <td>12.0</td>\n",
       "      <td>...</td>\n",
       "      <td>9.0</td>\n",
       "      <td>10.0</td>\n",
       "      <td>11.0</td>\n",
       "      <td>10.0</td>\n",
       "      <td>9.0</td>\n",
       "      <td>9.0</td>\n",
       "      <td>10.0</td>\n",
       "      <td>10.0</td>\n",
       "      <td>10.0</td>\n",
       "      <td>9.0</td>\n",
       "    </tr>\n",
       "    <tr>\n",
       "      <th>3533</th>\n",
       "      <td>NaN</td>\n",
       "      <td>10.0</td>\n",
       "      <td>NaN</td>\n",
       "      <td>NaN</td>\n",
       "      <td>NaN</td>\n",
       "      <td>NaN</td>\n",
       "      <td>NaN</td>\n",
       "      <td>NaN</td>\n",
       "      <td>NaN</td>\n",
       "      <td>9.0</td>\n",
       "      <td>...</td>\n",
       "      <td>NaN</td>\n",
       "      <td>NaN</td>\n",
       "      <td>NaN</td>\n",
       "      <td>NaN</td>\n",
       "      <td>NaN</td>\n",
       "      <td>NaN</td>\n",
       "      <td>NaN</td>\n",
       "      <td>NaN</td>\n",
       "      <td>NaN</td>\n",
       "      <td>NaN</td>\n",
       "    </tr>\n",
       "    <tr>\n",
       "      <th>3105</th>\n",
       "      <td>NaN</td>\n",
       "      <td>12.0</td>\n",
       "      <td>NaN</td>\n",
       "      <td>NaN</td>\n",
       "      <td>NaN</td>\n",
       "      <td>NaN</td>\n",
       "      <td>NaN</td>\n",
       "      <td>NaN</td>\n",
       "      <td>NaN</td>\n",
       "      <td>NaN</td>\n",
       "      <td>...</td>\n",
       "      <td>NaN</td>\n",
       "      <td>NaN</td>\n",
       "      <td>NaN</td>\n",
       "      <td>NaN</td>\n",
       "      <td>NaN</td>\n",
       "      <td>NaN</td>\n",
       "      <td>NaN</td>\n",
       "      <td>NaN</td>\n",
       "      <td>NaN</td>\n",
       "      <td>NaN</td>\n",
       "    </tr>\n",
       "    <tr>\n",
       "      <th>1477</th>\n",
       "      <td>NaN</td>\n",
       "      <td>9.0</td>\n",
       "      <td>NaN</td>\n",
       "      <td>NaN</td>\n",
       "      <td>NaN</td>\n",
       "      <td>NaN</td>\n",
       "      <td>NaN</td>\n",
       "      <td>NaN</td>\n",
       "      <td>NaN</td>\n",
       "      <td>NaN</td>\n",
       "      <td>...</td>\n",
       "      <td>NaN</td>\n",
       "      <td>NaN</td>\n",
       "      <td>NaN</td>\n",
       "      <td>NaN</td>\n",
       "      <td>NaN</td>\n",
       "      <td>NaN</td>\n",
       "      <td>NaN</td>\n",
       "      <td>NaN</td>\n",
       "      <td>NaN</td>\n",
       "      <td>NaN</td>\n",
       "    </tr>\n",
       "  </tbody>\n",
       "</table>\n",
       "<p>5 rows × 21 columns</p>\n",
       "</div>"
      ],
      "text/plain": [
       "      3034  2330  3533  3105  1477  5347  6269  2454  2383  4966  ...  2317  \\\n",
       "3034   NaN  14.0   NaN   NaN   NaN   NaN   NaN   NaN   NaN   NaN  ...   NaN   \n",
       "2330  14.0   NaN  10.0  12.0   9.0  10.0  20.0  10.0   9.0  12.0  ...   9.0   \n",
       "3533   NaN  10.0   NaN   NaN   NaN   NaN   NaN   NaN   NaN   9.0  ...   NaN   \n",
       "3105   NaN  12.0   NaN   NaN   NaN   NaN   NaN   NaN   NaN   NaN  ...   NaN   \n",
       "1477   NaN   9.0   NaN   NaN   NaN   NaN   NaN   NaN   NaN   NaN  ...   NaN   \n",
       "\n",
       "      6147  3008  2379  6274  1301  2382  3711  3227  2891  \n",
       "3034   NaN   NaN   NaN   NaN   NaN   NaN   NaN   NaN   NaN  \n",
       "2330  10.0  11.0  10.0   9.0   9.0  10.0  10.0  10.0   9.0  \n",
       "3533   NaN   NaN   NaN   NaN   NaN   NaN   NaN   NaN   NaN  \n",
       "3105   NaN   NaN   NaN   NaN   NaN   NaN   NaN   NaN   NaN  \n",
       "1477   NaN   NaN   NaN   NaN   NaN   NaN   NaN   NaN   NaN  \n",
       "\n",
       "[5 rows x 21 columns]"
      ]
     },
     "execution_count": 46,
     "metadata": {},
     "output_type": "execute_result"
    }
   ],
   "source": [
    "np.random.shuffle(co_occur_by_records)\n",
    "temp_matrix = pd.DataFrame()\n",
    "for i in co_occur_by_records:\n",
    "    temp_matrix.at[i[0], i[1]] = i[2]\n",
    "co_occurrence_matrix_by_records = pd.DataFrame()\n",
    "for i in temp_matrix:\n",
    "    for j in temp_matrix:\n",
    "        co_occurrence_matrix_by_records.at[i, j] = temp_matrix.at[i, j]\n",
    "co_occurrence_matrix_by_records.head()"
   ]
  },
  {
   "cell_type": "code",
   "execution_count": 47,
   "metadata": {},
   "outputs": [
    {
     "name": "stderr",
     "output_type": "stream",
     "text": [
      "/Users/lai/anaconda3/lib/python3.7/site-packages/networkx/drawing/nx_pylab.py:611: MatplotlibDeprecationWarning: isinstance(..., numbers.Number)\n",
      "  if cb.is_numlike(alpha):\n"
     ]
    },
    {
     "data": {
      "image/png": "[encoded data removed]",
      "text/plain": [
       "<Figure size 1080x1080 with 1 Axes>"
      ]
     },
     "metadata": {
      "needs_background": "light"
     },
     "output_type": "display_data"
    }
   ],
   "source": [
    "plt.figure(figsize=(15,15))\n",
    "plt.rcParams['font.sans-serif'] = ['SimHei']   \n",
    "plt.rcParams['font.family']='sans-serif'\n",
    "g = nx.Graph()\n",
    "g.add_weighted_edges_from(co_occur_by_records)\n",
    "pos=nx.spring_layout(g)\n",
    "nx.draw_networkx_nodes(g, pos, alpha=0.8,node_size=[val*50 for (node, val) in g.degree()], node_color='#08c5b1')\n",
    "nx.draw_networkx_edges(g, pos, node_color='b', alpha=0.2)\n",
    "for p in pos:  # raise text positions\n",
    "    pos[p][1] = pos[p][1] + 0.03\n",
    "nx.draw_networkx_labels(g, pos, font_size = 15, font_family='sans-serif', alpha=0.8)\n",
    "plt.savefig(\"add.png\", dpi=100)\n",
    "plt.show()"
   ]
  },
  {
   "cell_type": "markdown",
   "metadata": {},
   "source": [
    "此部份能看出，大部分顧客還是會比較在意2330的股市波動，也一併可以觀察到同時會在搜尋的股市方便推波做使用"
   ]
  },
  {
   "cell_type": "code",
   "execution_count": 48,
   "metadata": {},
   "outputs": [
    {
     "data": {
      "image/png": "[encoded data removed]",
      "text/plain": [
       "<Figure size 720x720 with 2 Axes>"
      ]
     },
     "metadata": {
      "needs_background": "light"
     },
     "output_type": "display_data"
    }
   ],
   "source": [
    "import seaborn as sn\n",
    "plt.figure(figsize=(10,10))\n",
    "sn.heatmap(co_occurrence_matrix_by_records,cmap='YlGnBu')\n",
    "#plt.savefig(\"images/用詞熱度圖_以每筆通聯紀錄為一句.png\", dpi=100)\n",
    "plt.show()"
   ]
  },
  {
   "cell_type": "code",
   "execution_count": null,
   "metadata": {},
   "outputs": [],
   "source": []
  },
  {
   "cell_type": "markdown",
   "metadata": {},
   "source": [
    "# 查詢 動作"
   ]
  },
  {
   "cell_type": "code",
   "execution_count": 49,
   "metadata": {},
   "outputs": [],
   "source": [
    "df3=df[1459:]\n",
    "table=pd.DataFrame(df3)\n",
    "csv_pd=table.to_csv('remove2.csv')"
   ]
  },
  {
   "cell_type": "code",
   "execution_count": 50,
   "metadata": {},
   "outputs": [],
   "source": [
    "dfcc = pd.read_csv(\"remove2.csv\")"
   ]
  },
  {
   "cell_type": "code",
   "execution_count": 51,
   "metadata": {},
   "outputs": [],
   "source": [
    "user_id=[]\n",
    "for i in dfcc['user_id']:\n",
    "    user_id.append(i)\n"
   ]
  },
  {
   "cell_type": "code",
   "execution_count": 52,
   "metadata": {},
   "outputs": [],
   "source": [
    "import re\n",
    "message = []\n",
    "for i in dfcc['message']:\n",
    "    message.append(re.split(',|，|；|-',i))\n",
    "for i in message:\n",
    "    if '' in i:\n",
    "        i.remove('')"
   ]
  },
  {
   "cell_type": "code",
   "execution_count": null,
   "metadata": {},
   "outputs": [],
   "source": [
    "message"
   ]
  },
  {
   "cell_type": "code",
   "execution_count": 53,
   "metadata": {},
   "outputs": [],
   "source": [
    "item_dict={}\n",
    "for i in message:\n",
    "    for x in i:\n",
    "        if item_dict.get(x) == None:\n",
    "            item_dict[x] = {}"
   ]
  },
  {
   "cell_type": "code",
   "execution_count": null,
   "metadata": {},
   "outputs": [],
   "source": [
    "item_dict"
   ]
  },
  {
   "cell_type": "code",
   "execution_count": 54,
   "metadata": {},
   "outputs": [],
   "source": [
    "for item2 in item_dict: #每一個字詞\n",
    "    item_dict[item2]={}\n",
    "    user = 0\n",
    "    for item1 in message:#每一個紀錄的股票代碼\n",
    "        for term in item1:\n",
    "            num=0\n",
    "            if term == item2:\n",
    "                num+=1\n",
    "            if item_dict[item2].get(user_id[user]) == None:\n",
    "                item_dict[item2][user_id[user]] = num \n",
    "            else:\n",
    "                item_dict[item2][user_id[user]]+=num\n",
    "        user+=1"
   ]
  },
  {
   "cell_type": "code",
   "execution_count": 55,
   "metadata": {},
   "outputs": [],
   "source": [
    "user={}\n",
    "for i in range(len(user_id)):\n",
    "    \n",
    "    if user.get(user_id[i]) == None:\n",
    "        user[user_id[i]]=[]\n",
    "        for item in message[i]:\n",
    "            user[user_id[i]].append(item)\n",
    "    else:\n",
    "        for item in message[i]:\n",
    "            user[user_id[i]].append(item)\n",
    "    \n",
    "    "
   ]
  },
  {
   "cell_type": "code",
   "execution_count": 56,
   "metadata": {},
   "outputs": [],
   "source": [
    "linestock=[]\n",
    "for i in user:\n",
    "    linestock.append(user[i])"
   ]
  },
  {
   "cell_type": "code",
   "execution_count": 57,
   "metadata": {},
   "outputs": [
    {
     "data": {
      "text/html": [
       "<div>\n",
       "<style scoped>\n",
       "    .dataframe tbody tr th:only-of-type {\n",
       "        vertical-align: middle;\n",
       "    }\n",
       "\n",
       "    .dataframe tbody tr th {\n",
       "        vertical-align: top;\n",
       "    }\n",
       "\n",
       "    .dataframe thead th {\n",
       "        text-align: right;\n",
       "    }\n",
       "</style>\n",
       "<table border=\"1\" class=\"dataframe\">\n",
       "  <thead>\n",
       "    <tr style=\"text-align: right;\">\n",
       "      <th></th>\n",
       "      <th>0050</th>\n",
       "      <th>0055</th>\n",
       "      <th>0056</th>\n",
       "      <th>0056 成分股</th>\n",
       "      <th>006208</th>\n",
       "      <th>00632R</th>\n",
       "      <th>00641R</th>\n",
       "      <th>00642U</th>\n",
       "      <th>00646</th>\n",
       "      <th>00648R</th>\n",
       "      <th>...</th>\n",
       "      <th>STOCKS</th>\n",
       "      <th>TELEGRAM 小幫手</th>\n",
       "      <th>TEST</th>\n",
       "      <th>TSK A</th>\n",
       "      <th>TSLA</th>\n",
       "      <th>TSMC</th>\n",
       "      <th>VIX</th>\n",
       "      <th>YANG</th>\n",
       "      <th>YINN</th>\n",
       "      <th>Z                                          Z</th>\n",
       "    </tr>\n",
       "  </thead>\n",
       "  <tbody>\n",
       "    <tr>\n",
       "      <th>828</th>\n",
       "      <td>1</td>\n",
       "      <td>0</td>\n",
       "      <td>0</td>\n",
       "      <td>0</td>\n",
       "      <td>0</td>\n",
       "      <td>0</td>\n",
       "      <td>0</td>\n",
       "      <td>0</td>\n",
       "      <td>0</td>\n",
       "      <td>0</td>\n",
       "      <td>...</td>\n",
       "      <td>0</td>\n",
       "      <td>0</td>\n",
       "      <td>0</td>\n",
       "      <td>0</td>\n",
       "      <td>0</td>\n",
       "      <td>0</td>\n",
       "      <td>0</td>\n",
       "      <td>0</td>\n",
       "      <td>0</td>\n",
       "      <td>0</td>\n",
       "    </tr>\n",
       "    <tr>\n",
       "      <th>826</th>\n",
       "      <td>1</td>\n",
       "      <td>0</td>\n",
       "      <td>0</td>\n",
       "      <td>0</td>\n",
       "      <td>0</td>\n",
       "      <td>0</td>\n",
       "      <td>0</td>\n",
       "      <td>0</td>\n",
       "      <td>0</td>\n",
       "      <td>0</td>\n",
       "      <td>...</td>\n",
       "      <td>0</td>\n",
       "      <td>0</td>\n",
       "      <td>0</td>\n",
       "      <td>0</td>\n",
       "      <td>0</td>\n",
       "      <td>0</td>\n",
       "      <td>0</td>\n",
       "      <td>0</td>\n",
       "      <td>0</td>\n",
       "      <td>0</td>\n",
       "    </tr>\n",
       "    <tr>\n",
       "      <th>808</th>\n",
       "      <td>1</td>\n",
       "      <td>0</td>\n",
       "      <td>0</td>\n",
       "      <td>0</td>\n",
       "      <td>0</td>\n",
       "      <td>0</td>\n",
       "      <td>0</td>\n",
       "      <td>0</td>\n",
       "      <td>0</td>\n",
       "      <td>0</td>\n",
       "      <td>...</td>\n",
       "      <td>0</td>\n",
       "      <td>0</td>\n",
       "      <td>0</td>\n",
       "      <td>0</td>\n",
       "      <td>0</td>\n",
       "      <td>0</td>\n",
       "      <td>0</td>\n",
       "      <td>0</td>\n",
       "      <td>0</td>\n",
       "      <td>0</td>\n",
       "    </tr>\n",
       "    <tr>\n",
       "      <th>759</th>\n",
       "      <td>1</td>\n",
       "      <td>0</td>\n",
       "      <td>0</td>\n",
       "      <td>0</td>\n",
       "      <td>0</td>\n",
       "      <td>0</td>\n",
       "      <td>0</td>\n",
       "      <td>0</td>\n",
       "      <td>0</td>\n",
       "      <td>0</td>\n",
       "      <td>...</td>\n",
       "      <td>0</td>\n",
       "      <td>0</td>\n",
       "      <td>0</td>\n",
       "      <td>0</td>\n",
       "      <td>0</td>\n",
       "      <td>0</td>\n",
       "      <td>0</td>\n",
       "      <td>0</td>\n",
       "      <td>0</td>\n",
       "      <td>0</td>\n",
       "    </tr>\n",
       "    <tr>\n",
       "      <th>465</th>\n",
       "      <td>1</td>\n",
       "      <td>0</td>\n",
       "      <td>1</td>\n",
       "      <td>0</td>\n",
       "      <td>0</td>\n",
       "      <td>0</td>\n",
       "      <td>0</td>\n",
       "      <td>0</td>\n",
       "      <td>0</td>\n",
       "      <td>0</td>\n",
       "      <td>...</td>\n",
       "      <td>0</td>\n",
       "      <td>0</td>\n",
       "      <td>0</td>\n",
       "      <td>0</td>\n",
       "      <td>0</td>\n",
       "      <td>0</td>\n",
       "      <td>0</td>\n",
       "      <td>0</td>\n",
       "      <td>0</td>\n",
       "      <td>0</td>\n",
       "    </tr>\n",
       "  </tbody>\n",
       "</table>\n",
       "<p>5 rows × 1205 columns</p>\n",
       "</div>"
      ],
      "text/plain": [
       "     0050  0055  0056  0056 成分股  006208  00632R  00641R  00642U  00646  \\\n",
       "828     1     0     0         0       0       0       0       0      0   \n",
       "826     1     0     0         0       0       0       0       0      0   \n",
       "808     1     0     0         0       0       0       0       0      0   \n",
       "759     1     0     0         0       0       0       0       0      0   \n",
       "465     1     0     1         0       0       0       0       0      0   \n",
       "\n",
       "     00648R  ...  STOCKS  TELEGRAM 小幫手  TEST  TSK A  TSLA  TSMC  VIX  YANG  \\\n",
       "828       0  ...       0             0     0      0     0     0    0     0   \n",
       "826       0  ...       0             0     0      0     0     0    0     0   \n",
       "808       0  ...       0             0     0      0     0     0    0     0   \n",
       "759       0  ...       0             0     0      0     0     0    0     0   \n",
       "465       0  ...       0             0     0      0     0     0    0     0   \n",
       "\n",
       "     YINN  Z                                          Z  \n",
       "828     0                                             0  \n",
       "826     0                                             0  \n",
       "808     0                                             0  \n",
       "759     0                                             0  \n",
       "465     0                                             0  \n",
       "\n",
       "[5 rows x 1205 columns]"
      ]
     },
     "execution_count": 57,
     "metadata": {},
     "output_type": "execute_result"
    }
   ],
   "source": [
    "TDM = pd.DataFrame.from_dict(item_dict)\n",
    "TDM.head()"
   ]
  },
  {
   "cell_type": "code",
   "execution_count": 58,
   "metadata": {},
   "outputs": [],
   "source": [
    "item_dict={}\n",
    "for i in message:\n",
    "    for x in i:\n",
    "        if item_dict.get(x) == None:\n",
    "            item_dict[x] = {}\n",
    "\n",
    "for line in linestock:                  \n",
    "    for name1 in line:                  \n",
    "        for name2 in line:             \n",
    "            if name1 == name2:\n",
    "                continue\n",
    "            if item_dict[name1].get(name2) is None:     \n",
    "                item_dict[name1][name2]= 1\n",
    "            else:\n",
    "                item_dict[name1][name2] = item_dict[name1][name2]+ 1       \n",
    "\n",
    "\n"
   ]
  },
  {
   "cell_type": "code",
   "execution_count": null,
   "metadata": {},
   "outputs": [],
   "source": [
    "item_dict"
   ]
  },
  {
   "cell_type": "code",
   "execution_count": 59,
   "metadata": {},
   "outputs": [],
   "source": [
    "co_occur_by_records=[]\n",
    "for name,edges in item_dict.items():\n",
    "    for v,w in edges.items():\n",
    "        if w > 12:\n",
    "            co_occur_by_records.append([name, v, w]) "
   ]
  },
  {
   "cell_type": "code",
   "execution_count": 60,
   "metadata": {},
   "outputs": [
    {
     "data": {
      "text/plain": [
       "86"
      ]
     },
     "execution_count": 60,
     "metadata": {},
     "output_type": "execute_result"
    }
   ],
   "source": [
    "len(co_occur_by_records)"
   ]
  },
  {
   "cell_type": "code",
   "execution_count": 61,
   "metadata": {},
   "outputs": [
    {
     "data": {
      "text/html": [
       "<div>\n",
       "<style scoped>\n",
       "    .dataframe tbody tr th:only-of-type {\n",
       "        vertical-align: middle;\n",
       "    }\n",
       "\n",
       "    .dataframe tbody tr th {\n",
       "        vertical-align: top;\n",
       "    }\n",
       "\n",
       "    .dataframe thead th {\n",
       "        text-align: right;\n",
       "    }\n",
       "</style>\n",
       "<table border=\"1\" class=\"dataframe\">\n",
       "  <thead>\n",
       "    <tr style=\"text-align: right;\">\n",
       "      <th></th>\n",
       "      <th>6176</th>\n",
       "      <th>8103</th>\n",
       "      <th>2330</th>\n",
       "      <th>4736</th>\n",
       "      <th>9924</th>\n",
       "      <th>5522</th>\n",
       "      <th>1521</th>\n",
       "      <th>加權指數</th>\n",
       "      <th>4906</th>\n",
       "      <th>3008</th>\n",
       "      <th>...</th>\n",
       "      <th>2454</th>\n",
       "      <th>營收</th>\n",
       "      <th>445134</th>\n",
       "      <th>2317</th>\n",
       "      <th>525295</th>\n",
       "      <th>4735</th>\n",
       "      <th>8131</th>\n",
       "      <th>台積電</th>\n",
       "      <th>8044</th>\n",
       "      <th>4736營收</th>\n",
       "    </tr>\n",
       "  </thead>\n",
       "  <tbody>\n",
       "    <tr>\n",
       "      <th>6176</th>\n",
       "      <td>NaN</td>\n",
       "      <td>40.0</td>\n",
       "      <td>44.0</td>\n",
       "      <td>NaN</td>\n",
       "      <td>NaN</td>\n",
       "      <td>64.0</td>\n",
       "      <td>NaN</td>\n",
       "      <td>NaN</td>\n",
       "      <td>NaN</td>\n",
       "      <td>NaN</td>\n",
       "      <td>...</td>\n",
       "      <td>NaN</td>\n",
       "      <td>NaN</td>\n",
       "      <td>NaN</td>\n",
       "      <td>52.0</td>\n",
       "      <td>NaN</td>\n",
       "      <td>NaN</td>\n",
       "      <td>NaN</td>\n",
       "      <td>NaN</td>\n",
       "      <td>NaN</td>\n",
       "      <td>NaN</td>\n",
       "    </tr>\n",
       "    <tr>\n",
       "      <th>8103</th>\n",
       "      <td>40.0</td>\n",
       "      <td>NaN</td>\n",
       "      <td>110.0</td>\n",
       "      <td>NaN</td>\n",
       "      <td>NaN</td>\n",
       "      <td>160.0</td>\n",
       "      <td>NaN</td>\n",
       "      <td>NaN</td>\n",
       "      <td>NaN</td>\n",
       "      <td>NaN</td>\n",
       "      <td>...</td>\n",
       "      <td>NaN</td>\n",
       "      <td>NaN</td>\n",
       "      <td>NaN</td>\n",
       "      <td>130.0</td>\n",
       "      <td>NaN</td>\n",
       "      <td>NaN</td>\n",
       "      <td>NaN</td>\n",
       "      <td>NaN</td>\n",
       "      <td>NaN</td>\n",
       "      <td>NaN</td>\n",
       "    </tr>\n",
       "    <tr>\n",
       "      <th>2330</th>\n",
       "      <td>44.0</td>\n",
       "      <td>110.0</td>\n",
       "      <td>NaN</td>\n",
       "      <td>NaN</td>\n",
       "      <td>NaN</td>\n",
       "      <td>176.0</td>\n",
       "      <td>NaN</td>\n",
       "      <td>NaN</td>\n",
       "      <td>20.0</td>\n",
       "      <td>NaN</td>\n",
       "      <td>...</td>\n",
       "      <td>NaN</td>\n",
       "      <td>NaN</td>\n",
       "      <td>NaN</td>\n",
       "      <td>147.0</td>\n",
       "      <td>NaN</td>\n",
       "      <td>NaN</td>\n",
       "      <td>NaN</td>\n",
       "      <td>13.0</td>\n",
       "      <td>NaN</td>\n",
       "      <td>NaN</td>\n",
       "    </tr>\n",
       "    <tr>\n",
       "      <th>4736</th>\n",
       "      <td>NaN</td>\n",
       "      <td>NaN</td>\n",
       "      <td>NaN</td>\n",
       "      <td>NaN</td>\n",
       "      <td>NaN</td>\n",
       "      <td>NaN</td>\n",
       "      <td>NaN</td>\n",
       "      <td>NaN</td>\n",
       "      <td>NaN</td>\n",
       "      <td>NaN</td>\n",
       "      <td>...</td>\n",
       "      <td>NaN</td>\n",
       "      <td>13.0</td>\n",
       "      <td>NaN</td>\n",
       "      <td>NaN</td>\n",
       "      <td>13.0</td>\n",
       "      <td>13.0</td>\n",
       "      <td>NaN</td>\n",
       "      <td>NaN</td>\n",
       "      <td>13.0</td>\n",
       "      <td>13.0</td>\n",
       "    </tr>\n",
       "    <tr>\n",
       "      <th>9924</th>\n",
       "      <td>NaN</td>\n",
       "      <td>NaN</td>\n",
       "      <td>NaN</td>\n",
       "      <td>NaN</td>\n",
       "      <td>NaN</td>\n",
       "      <td>24.0</td>\n",
       "      <td>20.0</td>\n",
       "      <td>NaN</td>\n",
       "      <td>NaN</td>\n",
       "      <td>NaN</td>\n",
       "      <td>...</td>\n",
       "      <td>NaN</td>\n",
       "      <td>NaN</td>\n",
       "      <td>NaN</td>\n",
       "      <td>NaN</td>\n",
       "      <td>NaN</td>\n",
       "      <td>NaN</td>\n",
       "      <td>NaN</td>\n",
       "      <td>NaN</td>\n",
       "      <td>NaN</td>\n",
       "      <td>NaN</td>\n",
       "    </tr>\n",
       "  </tbody>\n",
       "</table>\n",
       "<p>5 rows × 27 columns</p>\n",
       "</div>"
      ],
      "text/plain": [
       "      6176   8103   2330  4736  9924   5522  1521  加權指數  4906  3008  ...  \\\n",
       "6176   NaN   40.0   44.0   NaN   NaN   64.0   NaN   NaN   NaN   NaN  ...   \n",
       "8103  40.0    NaN  110.0   NaN   NaN  160.0   NaN   NaN   NaN   NaN  ...   \n",
       "2330  44.0  110.0    NaN   NaN   NaN  176.0   NaN   NaN  20.0   NaN  ...   \n",
       "4736   NaN    NaN    NaN   NaN   NaN    NaN   NaN   NaN   NaN   NaN  ...   \n",
       "9924   NaN    NaN    NaN   NaN   NaN   24.0  20.0   NaN   NaN   NaN  ...   \n",
       "\n",
       "      2454    營收  445134   2317  525295  4735  8131   台積電  8044  4736營收  \n",
       "6176   NaN   NaN     NaN   52.0     NaN   NaN   NaN   NaN   NaN     NaN  \n",
       "8103   NaN   NaN     NaN  130.0     NaN   NaN   NaN   NaN   NaN     NaN  \n",
       "2330   NaN   NaN     NaN  147.0     NaN   NaN   NaN  13.0   NaN     NaN  \n",
       "4736   NaN  13.0     NaN    NaN    13.0  13.0   NaN   NaN  13.0    13.0  \n",
       "9924   NaN   NaN     NaN    NaN     NaN   NaN   NaN   NaN   NaN     NaN  \n",
       "\n",
       "[5 rows x 27 columns]"
      ]
     },
     "execution_count": 61,
     "metadata": {},
     "output_type": "execute_result"
    }
   ],
   "source": [
    "np.random.shuffle(co_occur_by_records)\n",
    "temp_matrix = pd.DataFrame()\n",
    "for i in co_occur_by_records:\n",
    "    temp_matrix.at[i[0], i[1]] = i[2]\n",
    "co_occurrence_matrix_by_records = pd.DataFrame()\n",
    "for i in temp_matrix:\n",
    "    for j in temp_matrix:\n",
    "        co_occurrence_matrix_by_records.at[i, j] = temp_matrix.at[i, j]\n",
    "co_occurrence_matrix_by_records.head()"
   ]
  },
  {
   "cell_type": "code",
   "execution_count": 62,
   "metadata": {},
   "outputs": [
    {
     "name": "stderr",
     "output_type": "stream",
     "text": [
      "/Users/lai/anaconda3/lib/python3.7/site-packages/networkx/drawing/nx_pylab.py:611: MatplotlibDeprecationWarning: isinstance(..., numbers.Number)\n",
      "  if cb.is_numlike(alpha):\n"
     ]
    },
    {
     "data": {
      "image/png": "[encoded data removed]",
      "text/plain": [
       "<Figure size 1080x1080 with 1 Axes>"
      ]
     },
     "metadata": {
      "needs_background": "light"
     },
     "output_type": "display_data"
    }
   ],
   "source": [
    "plt.figure(figsize=(15,15))\n",
    "plt.rcParams['font.sans-serif'] = ['SimHei']   \n",
    "plt.rcParams['font.family']='sans-serif'\n",
    "g = nx.Graph()\n",
    "g.add_weighted_edges_from(co_occur_by_records)\n",
    "pos=nx.spring_layout(g)\n",
    "nx.draw_networkx_nodes(g, pos, alpha=0.8,node_size=[val*50 for (node, val) in g.degree()], node_color='#08c5b1')\n",
    "nx.draw_networkx_edges(g, pos, node_color='b', alpha=0.2)\n",
    "for p in pos:  # raise text positions\n",
    "    pos[p][1] = pos[p][1] + 0.03\n",
    "nx.draw_networkx_labels(g, pos, font_size = 15, font_family='sans-serif', alpha=0.8)\n",
    "plt.savefig(\"google.png\", dpi=100)\n",
    "plt.show()"
   ]
  },
  {
   "cell_type": "markdown",
   "metadata": {},
   "source": [
    "當出現次數12次以上可以明顯看出，4736出現時4735\\3515\\8044 也會出現"
   ]
  },
  {
   "cell_type": "code",
   "execution_count": 63,
   "metadata": {},
   "outputs": [],
   "source": [
    "co_occur_by_records=[]\n",
    "for name,edges in item_dict.items():\n",
    "    for v,w in edges.items():\n",
    "        if w > 15:\n",
    "            co_occur_by_records.append([name, v, w]) "
   ]
  },
  {
   "cell_type": "code",
   "execution_count": 64,
   "metadata": {},
   "outputs": [
    {
     "data": {
      "text/plain": [
       "62"
      ]
     },
     "execution_count": 64,
     "metadata": {},
     "output_type": "execute_result"
    }
   ],
   "source": [
    "len(co_occur_by_records)"
   ]
  },
  {
   "cell_type": "code",
   "execution_count": 65,
   "metadata": {},
   "outputs": [],
   "source": [
    "np.random.shuffle(co_occur_by_records)\n",
    "temp_matrix = pd.DataFrame()\n",
    "for i in co_occur_by_records:\n",
    "    temp_matrix.at[i[0], i[1]] = i[2]\n",
    "co_occurrence_matrix_by_records = pd.DataFrame()\n",
    "for i in temp_matrix:\n",
    "    for j in temp_matrix:\n",
    "        co_occurrence_matrix_by_records.at[i, j] = temp_matrix.at[i, j]"
   ]
  },
  {
   "cell_type": "code",
   "execution_count": 67,
   "metadata": {},
   "outputs": [
    {
     "name": "stderr",
     "output_type": "stream",
     "text": [
      "/Users/lai/anaconda3/lib/python3.7/site-packages/networkx/drawing/nx_pylab.py:611: MatplotlibDeprecationWarning: isinstance(..., numbers.Number)\n",
      "  if cb.is_numlike(alpha):\n"
     ]
    },
    {
     "data": {
      "image/png": "[encoded data removed]",
      "text/plain": [
       "<Figure size 1080x1080 with 1 Axes>"
      ]
     },
     "metadata": {
      "needs_background": "light"
     },
     "output_type": "display_data"
    }
   ],
   "source": [
    "plt.figure(figsize=(15,15))\n",
    "plt.rcParams['font.sans-serif'] = ['SimHei']   \n",
    "plt.rcParams['font.family']='sans-serif'\n",
    "g = nx.Graph()\n",
    "g.add_weighted_edges_from(co_occur_by_records)\n",
    "pos=nx.spring_layout(g)\n",
    "nx.draw_networkx_nodes(g, pos, alpha=0.8,node_size=[val*50 for (node, val) in g.degree()], node_color='#08c5b1')\n",
    "nx.draw_networkx_edges(g, pos, node_color='b', alpha=0.2)\n",
    "for p in pos:  # raise text positions\n",
    "    pos[p][1] = pos[p][1] + 0.03\n",
    "nx.draw_networkx_labels(g, pos, font_size = 15, font_family='sans-serif', alpha=0.8)\n",
    "plt.savefig(\"google15.png\", dpi=100)\n",
    "plt.show()"
   ]
  },
  {
   "cell_type": "markdown",
   "metadata": {},
   "source": [
    "當改成超過15次以上，更能明顯看出查詢5522跟其他股票之間的關聯"
   ]
  },
  {
   "cell_type": "code",
   "execution_count": 68,
   "metadata": {},
   "outputs": [
    {
     "data": {
      "image/png": "[encoded data removed]",
      "text/plain": [
       "<Figure size 720x720 with 2 Axes>"
      ]
     },
     "metadata": {
      "needs_background": "light"
     },
     "output_type": "display_data"
    }
   ],
   "source": [
    "import seaborn as sn\n",
    "plt.figure(figsize=(10,10))\n",
    "sn.heatmap(co_occurrence_matrix_by_records,cmap='YlGnBu')\n",
    "\n",
    "#plt.savefig(\"images/用詞熱度圖_以每筆通聯紀錄為一句.png\", dpi=100)\n",
    "plt.show()"
   ]
  },
  {
   "cell_type": "code",
   "execution_count": null,
   "metadata": {},
   "outputs": [],
   "source": []
  },
  {
   "cell_type": "code",
   "execution_count": null,
   "metadata": {},
   "outputs": [],
   "source": []
  },
  {
   "cell_type": "code",
   "execution_count": null,
   "metadata": {},
   "outputs": [],
   "source": []
  },
  {
   "cell_type": "code",
   "execution_count": null,
   "metadata": {},
   "outputs": [],
   "source": []
  },
  {
   "cell_type": "code",
   "execution_count": null,
   "metadata": {},
   "outputs": [],
   "source": []
  },
  {
   "cell_type": "code",
   "execution_count": null,
   "metadata": {},
   "outputs": [],
   "source": []
  }
 ],
 "metadata": {
  "kernelspec": {
   "display_name": "Python 3",
   "language": "python",
   "name": "python3"
  },
  "language_info": {
   "codemirror_mode": {
    "name": "ipython",
    "version": 3
   },
   "file_extension": ".py",
   "mimetype": "text/x-python",
   "name": "python",
   "nbconvert_exporter": "python",
   "pygments_lexer": "ipython3",
   "version": "3.7.1"
  }
 },
 "nbformat": 4,
 "nbformat_minor": 2
}
